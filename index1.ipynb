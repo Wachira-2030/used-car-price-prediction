{
 "cells": [
  {
   "cell_type": "markdown",
   "metadata": {
    "id": "xMxtPsqcTsSH"
   },
   "source": [
    "# Group Deku Project."
   ]
  },
  {
   "cell_type": "markdown",
   "metadata": {
    "id": "kLG2VTrnTvYL"
   },
   "source": [
    "## 1. Defining the Question"
   ]
  },
  {
   "cell_type": "markdown",
   "metadata": {
    "id": "XecOwPNorl2W"
   },
   "source": [
    "### a) Specifying the Data Analytic Question"
   ]
  },
  {
   "cell_type": "markdown",
   "metadata": {
    "id": "9ozBnKfehSAw"
   },
   "source": [
    "> Royal car Dealers have a car yard.They mainly deal in selling new cars but want to make a shift to second hand dealership like other yards.Second hand cars have a huge market base.Many people consider buying used cars instead of a new ones due to their big difference in price points.There is a lack of information available to consumers about the relationship between used car prices and mileage. As a result, consumers may end uppaying more or less for a used car than it is actually worth, leading to financial losses or missed opportunities for savings. This problem disproportionately aects first-time car buyers or those with limited knowledge about the used car market.\n",
    "\n",
    "> **Problem Statement:** The goal of this project is to predict the price of used cars given the feautures."
   ]
  },
  {
   "cell_type": "markdown",
   "metadata": {
    "id": "J4wfHZwQrs-t"
   },
   "source": [
    "### b) Defining the Metric for Success\n",
    "\n",
    "> Having a model that accurately  predicts used car prices."
   ]
  },
  {
   "cell_type": "markdown",
   "metadata": {
    "id": "a9BPYqunry97"
   },
   "source": [
    "### c) Understanding the context "
   ]
  },
  {
   "cell_type": "markdown",
   "metadata": {
    "id": "7KMRBJ7zr9HD"
   },
   "source": [
    "### d) Recording the Experimental Design"
   ]
  },
  {
   "cell_type": "markdown",
   "metadata": {
    "id": "zSGyg6kWsBUl"
   },
   "source": [
    "### e) Data Relevance"
   ]
  },
  {
   "cell_type": "markdown",
   "metadata": {
    "id": "iUNbvIvnT7ep"
   },
   "source": [
    "## 2. Reading the Data"
   ]
  },
  {
   "cell_type": "code",
   "execution_count": 3,
   "metadata": {},
   "outputs": [],
   "source": [
    "#importing relevant libraries\n",
    "import pandas as pd\n",
    "import numpy as np\n",
    "from scipy import stats\n",
    "import seaborn as sns\n",
    "import statsmodels.api as sm\n",
    "import matplotlib.pyplot as plt \n",
    "import re\n",
    "from sklearn.model_selection import train_test_split\n",
    "from sklearn import preprocessing\n",
    "from sklearn.linear_model import LinearRegression\n",
    "from sklearn import metrics\n",
    "from sklearn.preprocessing import LabelEncoder\n",
    "import warnings\n",
    "warnings.filterwarnings('ignore')\n",
    "%matplotlib inline"
   ]
  },
  {
   "cell_type": "code",
   "execution_count": 4,
   "metadata": {
    "id": "XJn2KjW-WMlG"
   },
   "outputs": [
    {
     "data": {
      "text/html": [
       "<div>\n",
       "<style scoped>\n",
       "    .dataframe tbody tr th:only-of-type {\n",
       "        vertical-align: middle;\n",
       "    }\n",
       "\n",
       "    .dataframe tbody tr th {\n",
       "        vertical-align: top;\n",
       "    }\n",
       "\n",
       "    .dataframe thead th {\n",
       "        text-align: right;\n",
       "    }\n",
       "</style>\n",
       "<table border=\"1\" class=\"dataframe\">\n",
       "  <thead>\n",
       "    <tr style=\"text-align: right;\">\n",
       "      <th></th>\n",
       "      <th>name</th>\n",
       "      <th>year</th>\n",
       "      <th>selling_price</th>\n",
       "      <th>km_driven</th>\n",
       "      <th>fuel</th>\n",
       "      <th>seller_type</th>\n",
       "      <th>transmission</th>\n",
       "      <th>owner</th>\n",
       "      <th>mileage</th>\n",
       "      <th>engine</th>\n",
       "      <th>max_power</th>\n",
       "      <th>torque</th>\n",
       "      <th>seats</th>\n",
       "    </tr>\n",
       "  </thead>\n",
       "  <tbody>\n",
       "    <tr>\n",
       "      <th>0</th>\n",
       "      <td>Maruti Swift Dzire VDI</td>\n",
       "      <td>2014</td>\n",
       "      <td>450000</td>\n",
       "      <td>145500</td>\n",
       "      <td>Diesel</td>\n",
       "      <td>Individual</td>\n",
       "      <td>Manual</td>\n",
       "      <td>First Owner</td>\n",
       "      <td>23.4 kmpl</td>\n",
       "      <td>1248 CC</td>\n",
       "      <td>74 bhp</td>\n",
       "      <td>190Nm@ 2000rpm</td>\n",
       "      <td>5.0</td>\n",
       "    </tr>\n",
       "    <tr>\n",
       "      <th>1</th>\n",
       "      <td>Skoda Rapid 1.5 TDI Ambition</td>\n",
       "      <td>2014</td>\n",
       "      <td>370000</td>\n",
       "      <td>120000</td>\n",
       "      <td>Diesel</td>\n",
       "      <td>Individual</td>\n",
       "      <td>Manual</td>\n",
       "      <td>Second Owner</td>\n",
       "      <td>21.14 kmpl</td>\n",
       "      <td>1498 CC</td>\n",
       "      <td>103.52 bhp</td>\n",
       "      <td>250Nm@ 1500-2500rpm</td>\n",
       "      <td>5.0</td>\n",
       "    </tr>\n",
       "    <tr>\n",
       "      <th>2</th>\n",
       "      <td>Honda City 2017-2020 EXi</td>\n",
       "      <td>2006</td>\n",
       "      <td>158000</td>\n",
       "      <td>140000</td>\n",
       "      <td>Petrol</td>\n",
       "      <td>Individual</td>\n",
       "      <td>Manual</td>\n",
       "      <td>Third Owner</td>\n",
       "      <td>17.7 kmpl</td>\n",
       "      <td>1497 CC</td>\n",
       "      <td>78 bhp</td>\n",
       "      <td>12.7@ 2,700(kgm@ rpm)</td>\n",
       "      <td>5.0</td>\n",
       "    </tr>\n",
       "    <tr>\n",
       "      <th>3</th>\n",
       "      <td>Hyundai i20 Sportz Diesel</td>\n",
       "      <td>2010</td>\n",
       "      <td>225000</td>\n",
       "      <td>127000</td>\n",
       "      <td>Diesel</td>\n",
       "      <td>Individual</td>\n",
       "      <td>Manual</td>\n",
       "      <td>First Owner</td>\n",
       "      <td>23.0 kmpl</td>\n",
       "      <td>1396 CC</td>\n",
       "      <td>90 bhp</td>\n",
       "      <td>22.4 kgm at 1750-2750rpm</td>\n",
       "      <td>5.0</td>\n",
       "    </tr>\n",
       "    <tr>\n",
       "      <th>4</th>\n",
       "      <td>Maruti Swift VXI BSIII</td>\n",
       "      <td>2007</td>\n",
       "      <td>130000</td>\n",
       "      <td>120000</td>\n",
       "      <td>Petrol</td>\n",
       "      <td>Individual</td>\n",
       "      <td>Manual</td>\n",
       "      <td>First Owner</td>\n",
       "      <td>16.1 kmpl</td>\n",
       "      <td>1298 CC</td>\n",
       "      <td>88.2 bhp</td>\n",
       "      <td>11.5@ 4,500(kgm@ rpm)</td>\n",
       "      <td>5.0</td>\n",
       "    </tr>\n",
       "  </tbody>\n",
       "</table>\n",
       "</div>"
      ],
      "text/plain": [
       "                           name  year  selling_price  km_driven    fuel  \\\n",
       "0        Maruti Swift Dzire VDI  2014         450000     145500  Diesel   \n",
       "1  Skoda Rapid 1.5 TDI Ambition  2014         370000     120000  Diesel   \n",
       "2      Honda City 2017-2020 EXi  2006         158000     140000  Petrol   \n",
       "3     Hyundai i20 Sportz Diesel  2010         225000     127000  Diesel   \n",
       "4        Maruti Swift VXI BSIII  2007         130000     120000  Petrol   \n",
       "\n",
       "  seller_type transmission         owner     mileage   engine   max_power  \\\n",
       "0  Individual       Manual   First Owner   23.4 kmpl  1248 CC      74 bhp   \n",
       "1  Individual       Manual  Second Owner  21.14 kmpl  1498 CC  103.52 bhp   \n",
       "2  Individual       Manual   Third Owner   17.7 kmpl  1497 CC      78 bhp   \n",
       "3  Individual       Manual   First Owner   23.0 kmpl  1396 CC      90 bhp   \n",
       "4  Individual       Manual   First Owner   16.1 kmpl  1298 CC    88.2 bhp   \n",
       "\n",
       "                     torque  seats  \n",
       "0            190Nm@ 2000rpm    5.0  \n",
       "1       250Nm@ 1500-2500rpm    5.0  \n",
       "2     12.7@ 2,700(kgm@ rpm)    5.0  \n",
       "3  22.4 kgm at 1750-2750rpm    5.0  \n",
       "4     11.5@ 4,500(kgm@ rpm)    5.0  "
      ]
     },
     "execution_count": 4,
     "metadata": {},
     "output_type": "execute_result"
    }
   ],
   "source": [
    "# Loading the Data \n",
    "# Dataset url = https://www.kaggle.com/datasets/nehalbirla/vehicle-dataset-from-cardekho\n",
    "car_details_df = pd.read_csv(\"Car details v3.csv\")\n",
    "car_df = car_details_df.copy()\n",
    "car_df.head()"
   ]
  },
  {
   "cell_type": "markdown",
   "metadata": {
    "id": "OI3P3YnHUEBk"
   },
   "source": [
    "\n",
    "\n",
    "## 3. Data Understanding"
   ]
  },
  {
   "cell_type": "code",
   "execution_count": 5,
   "metadata": {
    "id": "YjSVNwgptHxY"
   },
   "outputs": [
    {
     "data": {
      "text/plain": [
       "(8128, 13)"
      ]
     },
     "execution_count": 5,
     "metadata": {},
     "output_type": "execute_result"
    }
   ],
   "source": [
    "# Determining the no. of records in our dataset\n",
    "car_df.shape"
   ]
  },
  {
   "cell_type": "code",
   "execution_count": 6,
   "metadata": {
    "id": "xHhTw5eKWr0n"
   },
   "outputs": [
    {
     "data": {
      "text/html": [
       "<div>\n",
       "<style scoped>\n",
       "    .dataframe tbody tr th:only-of-type {\n",
       "        vertical-align: middle;\n",
       "    }\n",
       "\n",
       "    .dataframe tbody tr th {\n",
       "        vertical-align: top;\n",
       "    }\n",
       "\n",
       "    .dataframe thead th {\n",
       "        text-align: right;\n",
       "    }\n",
       "</style>\n",
       "<table border=\"1\" class=\"dataframe\">\n",
       "  <thead>\n",
       "    <tr style=\"text-align: right;\">\n",
       "      <th></th>\n",
       "      <th>name</th>\n",
       "      <th>year</th>\n",
       "      <th>selling_price</th>\n",
       "      <th>km_driven</th>\n",
       "      <th>fuel</th>\n",
       "      <th>seller_type</th>\n",
       "      <th>transmission</th>\n",
       "      <th>owner</th>\n",
       "      <th>mileage</th>\n",
       "      <th>engine</th>\n",
       "      <th>max_power</th>\n",
       "      <th>torque</th>\n",
       "      <th>seats</th>\n",
       "    </tr>\n",
       "  </thead>\n",
       "  <tbody>\n",
       "    <tr>\n",
       "      <th>8123</th>\n",
       "      <td>Hyundai i20 Magna</td>\n",
       "      <td>2013</td>\n",
       "      <td>320000</td>\n",
       "      <td>110000</td>\n",
       "      <td>Petrol</td>\n",
       "      <td>Individual</td>\n",
       "      <td>Manual</td>\n",
       "      <td>First Owner</td>\n",
       "      <td>18.5 kmpl</td>\n",
       "      <td>1197 CC</td>\n",
       "      <td>82.85 bhp</td>\n",
       "      <td>113.7Nm@ 4000rpm</td>\n",
       "      <td>5.0</td>\n",
       "    </tr>\n",
       "    <tr>\n",
       "      <th>8124</th>\n",
       "      <td>Hyundai Verna CRDi SX</td>\n",
       "      <td>2007</td>\n",
       "      <td>135000</td>\n",
       "      <td>119000</td>\n",
       "      <td>Diesel</td>\n",
       "      <td>Individual</td>\n",
       "      <td>Manual</td>\n",
       "      <td>Fourth &amp; Above Owner</td>\n",
       "      <td>16.8 kmpl</td>\n",
       "      <td>1493 CC</td>\n",
       "      <td>110 bhp</td>\n",
       "      <td>24@ 1,900-2,750(kgm@ rpm)</td>\n",
       "      <td>5.0</td>\n",
       "    </tr>\n",
       "    <tr>\n",
       "      <th>8125</th>\n",
       "      <td>Maruti Swift Dzire ZDi</td>\n",
       "      <td>2009</td>\n",
       "      <td>382000</td>\n",
       "      <td>120000</td>\n",
       "      <td>Diesel</td>\n",
       "      <td>Individual</td>\n",
       "      <td>Manual</td>\n",
       "      <td>First Owner</td>\n",
       "      <td>19.3 kmpl</td>\n",
       "      <td>1248 CC</td>\n",
       "      <td>73.9 bhp</td>\n",
       "      <td>190Nm@ 2000rpm</td>\n",
       "      <td>5.0</td>\n",
       "    </tr>\n",
       "    <tr>\n",
       "      <th>8126</th>\n",
       "      <td>Tata Indigo CR4</td>\n",
       "      <td>2013</td>\n",
       "      <td>290000</td>\n",
       "      <td>25000</td>\n",
       "      <td>Diesel</td>\n",
       "      <td>Individual</td>\n",
       "      <td>Manual</td>\n",
       "      <td>First Owner</td>\n",
       "      <td>23.57 kmpl</td>\n",
       "      <td>1396 CC</td>\n",
       "      <td>70 bhp</td>\n",
       "      <td>140Nm@ 1800-3000rpm</td>\n",
       "      <td>5.0</td>\n",
       "    </tr>\n",
       "    <tr>\n",
       "      <th>8127</th>\n",
       "      <td>Tata Indigo CR4</td>\n",
       "      <td>2013</td>\n",
       "      <td>290000</td>\n",
       "      <td>25000</td>\n",
       "      <td>Diesel</td>\n",
       "      <td>Individual</td>\n",
       "      <td>Manual</td>\n",
       "      <td>First Owner</td>\n",
       "      <td>23.57 kmpl</td>\n",
       "      <td>1396 CC</td>\n",
       "      <td>70 bhp</td>\n",
       "      <td>140Nm@ 1800-3000rpm</td>\n",
       "      <td>5.0</td>\n",
       "    </tr>\n",
       "  </tbody>\n",
       "</table>\n",
       "</div>"
      ],
      "text/plain": [
       "                        name  year  selling_price  km_driven    fuel  \\\n",
       "8123       Hyundai i20 Magna  2013         320000     110000  Petrol   \n",
       "8124   Hyundai Verna CRDi SX  2007         135000     119000  Diesel   \n",
       "8125  Maruti Swift Dzire ZDi  2009         382000     120000  Diesel   \n",
       "8126         Tata Indigo CR4  2013         290000      25000  Diesel   \n",
       "8127         Tata Indigo CR4  2013         290000      25000  Diesel   \n",
       "\n",
       "     seller_type transmission                 owner     mileage   engine  \\\n",
       "8123  Individual       Manual           First Owner   18.5 kmpl  1197 CC   \n",
       "8124  Individual       Manual  Fourth & Above Owner   16.8 kmpl  1493 CC   \n",
       "8125  Individual       Manual           First Owner   19.3 kmpl  1248 CC   \n",
       "8126  Individual       Manual           First Owner  23.57 kmpl  1396 CC   \n",
       "8127  Individual       Manual           First Owner  23.57 kmpl  1396 CC   \n",
       "\n",
       "      max_power                     torque  seats  \n",
       "8123  82.85 bhp           113.7Nm@ 4000rpm    5.0  \n",
       "8124    110 bhp  24@ 1,900-2,750(kgm@ rpm)    5.0  \n",
       "8125   73.9 bhp             190Nm@ 2000rpm    5.0  \n",
       "8126     70 bhp        140Nm@ 1800-3000rpm    5.0  \n",
       "8127     70 bhp        140Nm@ 1800-3000rpm    5.0  "
      ]
     },
     "execution_count": 6,
     "metadata": {},
     "output_type": "execute_result"
    }
   ],
   "source": [
    "# Previewing the bottom of our dataset\n",
    "car_df.tail()"
   ]
  },
  {
   "cell_type": "code",
   "execution_count": 7,
   "metadata": {
    "id": "e9AzGcZFrIIr",
    "scrolled": true
   },
   "outputs": [
    {
     "data": {
      "text/html": [
       "<div>\n",
       "<style scoped>\n",
       "    .dataframe tbody tr th:only-of-type {\n",
       "        vertical-align: middle;\n",
       "    }\n",
       "\n",
       "    .dataframe tbody tr th {\n",
       "        vertical-align: top;\n",
       "    }\n",
       "\n",
       "    .dataframe thead th {\n",
       "        text-align: right;\n",
       "    }\n",
       "</style>\n",
       "<table border=\"1\" class=\"dataframe\">\n",
       "  <thead>\n",
       "    <tr style=\"text-align: right;\">\n",
       "      <th></th>\n",
       "      <th>name</th>\n",
       "      <th>year</th>\n",
       "      <th>selling_price</th>\n",
       "      <th>km_driven</th>\n",
       "      <th>fuel</th>\n",
       "      <th>seller_type</th>\n",
       "      <th>transmission</th>\n",
       "      <th>owner</th>\n",
       "      <th>mileage</th>\n",
       "      <th>engine</th>\n",
       "      <th>max_power</th>\n",
       "      <th>torque</th>\n",
       "      <th>seats</th>\n",
       "    </tr>\n",
       "  </thead>\n",
       "  <tbody>\n",
       "    <tr>\n",
       "      <th>count</th>\n",
       "      <td>8128</td>\n",
       "      <td>8128.000000</td>\n",
       "      <td>8.128000e+03</td>\n",
       "      <td>8.128000e+03</td>\n",
       "      <td>8128</td>\n",
       "      <td>8128</td>\n",
       "      <td>8128</td>\n",
       "      <td>8128</td>\n",
       "      <td>7907</td>\n",
       "      <td>7907</td>\n",
       "      <td>7913</td>\n",
       "      <td>7906</td>\n",
       "      <td>7907.000000</td>\n",
       "    </tr>\n",
       "    <tr>\n",
       "      <th>unique</th>\n",
       "      <td>2058</td>\n",
       "      <td>NaN</td>\n",
       "      <td>NaN</td>\n",
       "      <td>NaN</td>\n",
       "      <td>4</td>\n",
       "      <td>3</td>\n",
       "      <td>2</td>\n",
       "      <td>5</td>\n",
       "      <td>393</td>\n",
       "      <td>121</td>\n",
       "      <td>322</td>\n",
       "      <td>441</td>\n",
       "      <td>NaN</td>\n",
       "    </tr>\n",
       "    <tr>\n",
       "      <th>top</th>\n",
       "      <td>Maruti Swift Dzire VDI</td>\n",
       "      <td>NaN</td>\n",
       "      <td>NaN</td>\n",
       "      <td>NaN</td>\n",
       "      <td>Diesel</td>\n",
       "      <td>Individual</td>\n",
       "      <td>Manual</td>\n",
       "      <td>First Owner</td>\n",
       "      <td>18.9 kmpl</td>\n",
       "      <td>1248 CC</td>\n",
       "      <td>74 bhp</td>\n",
       "      <td>190Nm@ 2000rpm</td>\n",
       "      <td>NaN</td>\n",
       "    </tr>\n",
       "    <tr>\n",
       "      <th>freq</th>\n",
       "      <td>129</td>\n",
       "      <td>NaN</td>\n",
       "      <td>NaN</td>\n",
       "      <td>NaN</td>\n",
       "      <td>4402</td>\n",
       "      <td>6766</td>\n",
       "      <td>7078</td>\n",
       "      <td>5289</td>\n",
       "      <td>225</td>\n",
       "      <td>1017</td>\n",
       "      <td>377</td>\n",
       "      <td>530</td>\n",
       "      <td>NaN</td>\n",
       "    </tr>\n",
       "    <tr>\n",
       "      <th>mean</th>\n",
       "      <td>NaN</td>\n",
       "      <td>2013.804011</td>\n",
       "      <td>6.382718e+05</td>\n",
       "      <td>6.981951e+04</td>\n",
       "      <td>NaN</td>\n",
       "      <td>NaN</td>\n",
       "      <td>NaN</td>\n",
       "      <td>NaN</td>\n",
       "      <td>NaN</td>\n",
       "      <td>NaN</td>\n",
       "      <td>NaN</td>\n",
       "      <td>NaN</td>\n",
       "      <td>5.416719</td>\n",
       "    </tr>\n",
       "    <tr>\n",
       "      <th>std</th>\n",
       "      <td>NaN</td>\n",
       "      <td>4.044249</td>\n",
       "      <td>8.062534e+05</td>\n",
       "      <td>5.655055e+04</td>\n",
       "      <td>NaN</td>\n",
       "      <td>NaN</td>\n",
       "      <td>NaN</td>\n",
       "      <td>NaN</td>\n",
       "      <td>NaN</td>\n",
       "      <td>NaN</td>\n",
       "      <td>NaN</td>\n",
       "      <td>NaN</td>\n",
       "      <td>0.959588</td>\n",
       "    </tr>\n",
       "    <tr>\n",
       "      <th>min</th>\n",
       "      <td>NaN</td>\n",
       "      <td>1983.000000</td>\n",
       "      <td>2.999900e+04</td>\n",
       "      <td>1.000000e+00</td>\n",
       "      <td>NaN</td>\n",
       "      <td>NaN</td>\n",
       "      <td>NaN</td>\n",
       "      <td>NaN</td>\n",
       "      <td>NaN</td>\n",
       "      <td>NaN</td>\n",
       "      <td>NaN</td>\n",
       "      <td>NaN</td>\n",
       "      <td>2.000000</td>\n",
       "    </tr>\n",
       "    <tr>\n",
       "      <th>25%</th>\n",
       "      <td>NaN</td>\n",
       "      <td>2011.000000</td>\n",
       "      <td>2.549990e+05</td>\n",
       "      <td>3.500000e+04</td>\n",
       "      <td>NaN</td>\n",
       "      <td>NaN</td>\n",
       "      <td>NaN</td>\n",
       "      <td>NaN</td>\n",
       "      <td>NaN</td>\n",
       "      <td>NaN</td>\n",
       "      <td>NaN</td>\n",
       "      <td>NaN</td>\n",
       "      <td>5.000000</td>\n",
       "    </tr>\n",
       "    <tr>\n",
       "      <th>50%</th>\n",
       "      <td>NaN</td>\n",
       "      <td>2015.000000</td>\n",
       "      <td>4.500000e+05</td>\n",
       "      <td>6.000000e+04</td>\n",
       "      <td>NaN</td>\n",
       "      <td>NaN</td>\n",
       "      <td>NaN</td>\n",
       "      <td>NaN</td>\n",
       "      <td>NaN</td>\n",
       "      <td>NaN</td>\n",
       "      <td>NaN</td>\n",
       "      <td>NaN</td>\n",
       "      <td>5.000000</td>\n",
       "    </tr>\n",
       "    <tr>\n",
       "      <th>75%</th>\n",
       "      <td>NaN</td>\n",
       "      <td>2017.000000</td>\n",
       "      <td>6.750000e+05</td>\n",
       "      <td>9.800000e+04</td>\n",
       "      <td>NaN</td>\n",
       "      <td>NaN</td>\n",
       "      <td>NaN</td>\n",
       "      <td>NaN</td>\n",
       "      <td>NaN</td>\n",
       "      <td>NaN</td>\n",
       "      <td>NaN</td>\n",
       "      <td>NaN</td>\n",
       "      <td>5.000000</td>\n",
       "    </tr>\n",
       "    <tr>\n",
       "      <th>max</th>\n",
       "      <td>NaN</td>\n",
       "      <td>2020.000000</td>\n",
       "      <td>1.000000e+07</td>\n",
       "      <td>2.360457e+06</td>\n",
       "      <td>NaN</td>\n",
       "      <td>NaN</td>\n",
       "      <td>NaN</td>\n",
       "      <td>NaN</td>\n",
       "      <td>NaN</td>\n",
       "      <td>NaN</td>\n",
       "      <td>NaN</td>\n",
       "      <td>NaN</td>\n",
       "      <td>14.000000</td>\n",
       "    </tr>\n",
       "  </tbody>\n",
       "</table>\n",
       "</div>"
      ],
      "text/plain": [
       "                          name         year  selling_price     km_driven  \\\n",
       "count                     8128  8128.000000   8.128000e+03  8.128000e+03   \n",
       "unique                    2058          NaN            NaN           NaN   \n",
       "top     Maruti Swift Dzire VDI          NaN            NaN           NaN   \n",
       "freq                       129          NaN            NaN           NaN   \n",
       "mean                       NaN  2013.804011   6.382718e+05  6.981951e+04   \n",
       "std                        NaN     4.044249   8.062534e+05  5.655055e+04   \n",
       "min                        NaN  1983.000000   2.999900e+04  1.000000e+00   \n",
       "25%                        NaN  2011.000000   2.549990e+05  3.500000e+04   \n",
       "50%                        NaN  2015.000000   4.500000e+05  6.000000e+04   \n",
       "75%                        NaN  2017.000000   6.750000e+05  9.800000e+04   \n",
       "max                        NaN  2020.000000   1.000000e+07  2.360457e+06   \n",
       "\n",
       "          fuel seller_type transmission        owner    mileage   engine  \\\n",
       "count     8128        8128         8128         8128       7907     7907   \n",
       "unique       4           3            2            5        393      121   \n",
       "top     Diesel  Individual       Manual  First Owner  18.9 kmpl  1248 CC   \n",
       "freq      4402        6766         7078         5289        225     1017   \n",
       "mean       NaN         NaN          NaN          NaN        NaN      NaN   \n",
       "std        NaN         NaN          NaN          NaN        NaN      NaN   \n",
       "min        NaN         NaN          NaN          NaN        NaN      NaN   \n",
       "25%        NaN         NaN          NaN          NaN        NaN      NaN   \n",
       "50%        NaN         NaN          NaN          NaN        NaN      NaN   \n",
       "75%        NaN         NaN          NaN          NaN        NaN      NaN   \n",
       "max        NaN         NaN          NaN          NaN        NaN      NaN   \n",
       "\n",
       "       max_power          torque        seats  \n",
       "count       7913            7906  7907.000000  \n",
       "unique       322             441          NaN  \n",
       "top       74 bhp  190Nm@ 2000rpm          NaN  \n",
       "freq         377             530          NaN  \n",
       "mean         NaN             NaN     5.416719  \n",
       "std          NaN             NaN     0.959588  \n",
       "min          NaN             NaN     2.000000  \n",
       "25%          NaN             NaN     5.000000  \n",
       "50%          NaN             NaN     5.000000  \n",
       "75%          NaN             NaN     5.000000  \n",
       "max          NaN             NaN    14.000000  "
      ]
     },
     "execution_count": 7,
     "metadata": {},
     "output_type": "execute_result"
    }
   ],
   "source": [
    "# Exploring the descriptive statistics of the variables\n",
    "car_df.describe(include='all')"
   ]
  },
  {
   "cell_type": "code",
   "execution_count": 8,
   "metadata": {
    "id": "n8-dW4sQWzbc"
   },
   "outputs": [
    {
     "name": "stdout",
     "output_type": "stream",
     "text": [
      "<class 'pandas.core.frame.DataFrame'>\n",
      "RangeIndex: 8128 entries, 0 to 8127\n",
      "Data columns (total 13 columns):\n",
      " #   Column         Non-Null Count  Dtype  \n",
      "---  ------         --------------  -----  \n",
      " 0   name           8128 non-null   object \n",
      " 1   year           8128 non-null   int64  \n",
      " 2   selling_price  8128 non-null   int64  \n",
      " 3   km_driven      8128 non-null   int64  \n",
      " 4   fuel           8128 non-null   object \n",
      " 5   seller_type    8128 non-null   object \n",
      " 6   transmission   8128 non-null   object \n",
      " 7   owner          8128 non-null   object \n",
      " 8   mileage        7907 non-null   object \n",
      " 9   engine         7907 non-null   object \n",
      " 10  max_power      7913 non-null   object \n",
      " 11  torque         7906 non-null   object \n",
      " 12  seats          7907 non-null   float64\n",
      "dtypes: float64(1), int64(3), object(9)\n",
      "memory usage: 825.6+ KB\n"
     ]
    }
   ],
   "source": [
    "# Checking for data set info\n",
    "car_df.info()"
   ]
  },
  {
   "cell_type": "markdown",
   "metadata": {
    "id": "ckfufNrcUHeH"
   },
   "source": [
    "## 4. External Data Source Validation"
   ]
  },
  {
   "cell_type": "markdown",
   "metadata": {
    "id": "6L4sl_0WXlbg"
   },
   "source": [
    "Making sure your data matches something outside of the dataset is very important. It allows you to ensure that the measurements are roughly in line with what they should be and it serves as a check on what other things might be wrong in your dataset. External validation can often be as simple as checking your data against a single number, as we will do here."
   ]
  },
  {
   "cell_type": "markdown",
   "metadata": {
    "id": "6XC_g-zKxe-r"
   },
   "source": [
    "### a.Validation"
   ]
  },
  {
   "cell_type": "markdown",
   "metadata": {
    "id": "FlBMxEDBUc9B"
   },
   "source": [
    "## 5. Tidying the Dataset"
   ]
  },
  {
   "cell_type": "code",
   "execution_count": 9,
   "metadata": {
    "id": "5o_bQcT5W3Wz"
   },
   "outputs": [
    {
     "data": {
      "text/html": [
       "<div>\n",
       "<style scoped>\n",
       "    .dataframe tbody tr th:only-of-type {\n",
       "        vertical-align: middle;\n",
       "    }\n",
       "\n",
       "    .dataframe tbody tr th {\n",
       "        vertical-align: top;\n",
       "    }\n",
       "\n",
       "    .dataframe thead th {\n",
       "        text-align: right;\n",
       "    }\n",
       "</style>\n",
       "<table border=\"1\" class=\"dataframe\">\n",
       "  <thead>\n",
       "    <tr style=\"text-align: right;\">\n",
       "      <th></th>\n",
       "      <th>year</th>\n",
       "      <th>selling_price</th>\n",
       "      <th>km_driven</th>\n",
       "      <th>seats</th>\n",
       "    </tr>\n",
       "  </thead>\n",
       "  <tbody>\n",
       "    <tr>\n",
       "      <th>count</th>\n",
       "      <td>8128.000000</td>\n",
       "      <td>8.128000e+03</td>\n",
       "      <td>8.128000e+03</td>\n",
       "      <td>7907.000000</td>\n",
       "    </tr>\n",
       "    <tr>\n",
       "      <th>mean</th>\n",
       "      <td>2013.804011</td>\n",
       "      <td>6.382718e+05</td>\n",
       "      <td>6.981951e+04</td>\n",
       "      <td>5.416719</td>\n",
       "    </tr>\n",
       "    <tr>\n",
       "      <th>std</th>\n",
       "      <td>4.044249</td>\n",
       "      <td>8.062534e+05</td>\n",
       "      <td>5.655055e+04</td>\n",
       "      <td>0.959588</td>\n",
       "    </tr>\n",
       "    <tr>\n",
       "      <th>min</th>\n",
       "      <td>1983.000000</td>\n",
       "      <td>2.999900e+04</td>\n",
       "      <td>1.000000e+00</td>\n",
       "      <td>2.000000</td>\n",
       "    </tr>\n",
       "    <tr>\n",
       "      <th>25%</th>\n",
       "      <td>2011.000000</td>\n",
       "      <td>2.549990e+05</td>\n",
       "      <td>3.500000e+04</td>\n",
       "      <td>5.000000</td>\n",
       "    </tr>\n",
       "    <tr>\n",
       "      <th>50%</th>\n",
       "      <td>2015.000000</td>\n",
       "      <td>4.500000e+05</td>\n",
       "      <td>6.000000e+04</td>\n",
       "      <td>5.000000</td>\n",
       "    </tr>\n",
       "    <tr>\n",
       "      <th>75%</th>\n",
       "      <td>2017.000000</td>\n",
       "      <td>6.750000e+05</td>\n",
       "      <td>9.800000e+04</td>\n",
       "      <td>5.000000</td>\n",
       "    </tr>\n",
       "    <tr>\n",
       "      <th>90%</th>\n",
       "      <td>2018.000000</td>\n",
       "      <td>1.025000e+06</td>\n",
       "      <td>1.200000e+05</td>\n",
       "      <td>7.000000</td>\n",
       "    </tr>\n",
       "    <tr>\n",
       "      <th>95%</th>\n",
       "      <td>2019.000000</td>\n",
       "      <td>1.950000e+06</td>\n",
       "      <td>1.500000e+05</td>\n",
       "      <td>7.000000</td>\n",
       "    </tr>\n",
       "    <tr>\n",
       "      <th>99%</th>\n",
       "      <td>2019.000000</td>\n",
       "      <td>5.200000e+06</td>\n",
       "      <td>2.250000e+05</td>\n",
       "      <td>9.000000</td>\n",
       "    </tr>\n",
       "    <tr>\n",
       "      <th>max</th>\n",
       "      <td>2020.000000</td>\n",
       "      <td>1.000000e+07</td>\n",
       "      <td>2.360457e+06</td>\n",
       "      <td>14.000000</td>\n",
       "    </tr>\n",
       "  </tbody>\n",
       "</table>\n",
       "</div>"
      ],
      "text/plain": [
       "              year  selling_price     km_driven        seats\n",
       "count  8128.000000   8.128000e+03  8.128000e+03  7907.000000\n",
       "mean   2013.804011   6.382718e+05  6.981951e+04     5.416719\n",
       "std       4.044249   8.062534e+05  5.655055e+04     0.959588\n",
       "min    1983.000000   2.999900e+04  1.000000e+00     2.000000\n",
       "25%    2011.000000   2.549990e+05  3.500000e+04     5.000000\n",
       "50%    2015.000000   4.500000e+05  6.000000e+04     5.000000\n",
       "75%    2017.000000   6.750000e+05  9.800000e+04     5.000000\n",
       "90%    2018.000000   1.025000e+06  1.200000e+05     7.000000\n",
       "95%    2019.000000   1.950000e+06  1.500000e+05     7.000000\n",
       "99%    2019.000000   5.200000e+06  2.250000e+05     9.000000\n",
       "max    2020.000000   1.000000e+07  2.360457e+06    14.000000"
      ]
     },
     "execution_count": 9,
     "metadata": {},
     "output_type": "execute_result"
    }
   ],
   "source": [
    "# Checking for Outliers\n",
    "car_df.describe(percentiles=[0.25,0.5,0.75,0.9,0.95,0.99])"
   ]
  },
  {
   "cell_type": "code",
   "execution_count": 10,
   "metadata": {
    "id": "PvCYb6dgW4yh"
   },
   "outputs": [
    {
     "data": {
      "text/plain": [
       "name               0\n",
       "year               0\n",
       "selling_price      0\n",
       "km_driven          0\n",
       "fuel               0\n",
       "seller_type        0\n",
       "transmission       0\n",
       "owner              0\n",
       "mileage          221\n",
       "engine           221\n",
       "max_power        215\n",
       "torque           222\n",
       "seats            221\n",
       "dtype: int64"
      ]
     },
     "execution_count": 10,
     "metadata": {},
     "output_type": "execute_result"
    }
   ],
   "source": [
    "# Identifying the Missing Data\n",
    "car_df.isnull().sum()"
   ]
  },
  {
   "cell_type": "code",
   "execution_count": 11,
   "metadata": {
    "id": "MpsDGKZHsf_W"
   },
   "outputs": [],
   "source": [
    "# Dropping rows with Missing Data\n",
    "car_df.dropna(inplace=True)"
   ]
  },
  {
   "cell_type": "code",
   "execution_count": 12,
   "metadata": {},
   "outputs": [
    {
     "data": {
      "text/plain": [
       "name             0\n",
       "year             0\n",
       "selling_price    0\n",
       "km_driven        0\n",
       "fuel             0\n",
       "seller_type      0\n",
       "transmission     0\n",
       "owner            0\n",
       "mileage          0\n",
       "engine           0\n",
       "max_power        0\n",
       "torque           0\n",
       "seats            0\n",
       "dtype: int64"
      ]
     },
     "execution_count": 12,
     "metadata": {},
     "output_type": "execute_result"
    }
   ],
   "source": [
    "#Confirm if there are any missing values.\n",
    "car_df.isnull().sum()"
   ]
  },
  {
   "cell_type": "code",
   "execution_count": 13,
   "metadata": {},
   "outputs": [
    {
     "data": {
      "text/plain": [
       "1189"
      ]
     },
     "execution_count": 13,
     "metadata": {},
     "output_type": "execute_result"
    }
   ],
   "source": [
    "# Identifying the Duplicated Data\n",
    "car_df.duplicated().sum()"
   ]
  },
  {
   "cell_type": "code",
   "execution_count": 14,
   "metadata": {},
   "outputs": [],
   "source": [
    "#Dropping duplicated data.\n",
    "car_df.drop_duplicates(inplace=True)"
   ]
  },
  {
   "cell_type": "code",
   "execution_count": 15,
   "metadata": {},
   "outputs": [
    {
     "data": {
      "text/plain": [
       "0"
      ]
     },
     "execution_count": 15,
     "metadata": {},
     "output_type": "execute_result"
    }
   ],
   "source": [
    "#Confirm if there are any duplicates.\n",
    "car_df.duplicated().sum()"
   ]
  },
  {
   "cell_type": "code",
   "execution_count": 16,
   "metadata": {},
   "outputs": [
    {
     "data": {
      "text/plain": [
       "(6717, 13)"
      ]
     },
     "execution_count": 16,
     "metadata": {},
     "output_type": "execute_result"
    }
   ],
   "source": [
    "#checking the dimensions of the new data frame.\n",
    "car_df.shape"
   ]
  },
  {
   "cell_type": "code",
   "execution_count": 17,
   "metadata": {
    "id": "D-4I__6Os4C5"
   },
   "outputs": [],
   "source": [
    "# More data cleaning procedures\n",
    "#creating a function that strips and converts non-numerical data types to numericals.\n",
    "def replace_data(data, to_replace, value, col):\n",
    "    \"\"\"replace values in the given column\"\"\"\n",
    "    car_df[col].replace(to_replace, value,inplace = True, regex = True)\n",
    "replace_data(car_df, \"CC\", \"\", \"engine\")\n",
    "car_df[\"engine\"] = car_df[\"engine\"].astype(float)"
   ]
  },
  {
   "cell_type": "code",
   "execution_count": 18,
   "metadata": {},
   "outputs": [],
   "source": [
    "#calling our function.\n",
    "replace_data(car_df, \"km/kg\", \"\", \"mileage\")\n",
    "replace_data(car_df, \"kmpl\", \"\", \"mileage\")\n",
    "car_df[\"mileage\"] = car_df[\"mileage\"].astype(float)"
   ]
  },
  {
   "cell_type": "code",
   "execution_count": 19,
   "metadata": {},
   "outputs": [],
   "source": [
    "#calling our function.\n",
    "replace_data(car_df, \"bhp\", \"\", \"max_power\")\n",
    "car_df[\"max_power\"] = car_df[\"max_power\"].astype(float)"
   ]
  },
  {
   "cell_type": "code",
   "execution_count": 20,
   "metadata": {},
   "outputs": [],
   "source": [
    "#striping torque\n",
    "def findFirstFloat(string):\n",
    "    return re.findall(r\"[-+]?(?:\\d*\\.*\\d+)\", string)[0]\n",
    "\n",
    "car_df[\"torque\"] = car_df[\"torque\"].apply(findFirstFloat)\n",
    "car_df[\"torque\"] = car_df[\"torque\"].astype(float)"
   ]
  },
  {
   "cell_type": "code",
   "execution_count": 21,
   "metadata": {},
   "outputs": [],
   "source": [
    "#spliting car brand\n",
    "company_name = car_df['name'].apply(lambda x : x.split(' ')[0])\n",
    "car_df.insert(1,\"company_name\",company_name)\n",
    "car_df.drop(['name'],axis=1,inplace=True)"
   ]
  },
  {
   "cell_type": "code",
   "execution_count": 22,
   "metadata": {},
   "outputs": [],
   "source": [
    "#create new column for \"car age\"\n",
    "def yearTransform(year):\n",
    "    return 2023 - year\n",
    "\n",
    "#calling the function\n",
    "car_df[\"year\"] = car_df[\"year\"].apply(yearTransform)"
   ]
  },
  {
   "cell_type": "code",
   "execution_count": 23,
   "metadata": {},
   "outputs": [
    {
     "data": {
      "text/plain": [
       "company_name      object\n",
       "year               int64\n",
       "selling_price      int64\n",
       "km_driven          int64\n",
       "fuel              object\n",
       "seller_type       object\n",
       "transmission      object\n",
       "owner             object\n",
       "mileage          float64\n",
       "engine           float64\n",
       "max_power        float64\n",
       "torque           float64\n",
       "seats            float64\n",
       "dtype: object"
      ]
     },
     "execution_count": 23,
     "metadata": {},
     "output_type": "execute_result"
    }
   ],
   "source": [
    "#confirming change of data types to floats.\n",
    "car_df.dtypes"
   ]
  },
  {
   "cell_type": "code",
   "execution_count": 24,
   "metadata": {},
   "outputs": [],
   "source": [
    "#for x in ['km_driven']:\n",
    " #   q75,q25 = np.percentile(car_df.loc[:,x],[75,25])\n",
    "  #  intr_qr = q75-q25\n",
    "    \n",
    "   # max= q75+(1.5*intr_qr)\n",
    "    #min= q25-(1.5*intr_qr)\n",
    "    \n",
    "    #car_df.loc[car_df[x]  < min,x] = np.nan\n",
    "    #car_df.loc[car_df[x]  > max,x] = np.nan"
   ]
  },
  {
   "cell_type": "code",
   "execution_count": 25,
   "metadata": {},
   "outputs": [
    {
     "data": {
      "text/plain": [
       "company_name     0\n",
       "year             0\n",
       "selling_price    0\n",
       "km_driven        0\n",
       "fuel             0\n",
       "seller_type      0\n",
       "transmission     0\n",
       "owner            0\n",
       "mileage          0\n",
       "engine           0\n",
       "max_power        0\n",
       "torque           0\n",
       "seats            0\n",
       "dtype: int64"
      ]
     },
     "execution_count": 25,
     "metadata": {},
     "output_type": "execute_result"
    }
   ],
   "source": [
    "car_df.isnull().sum()"
   ]
  },
  {
   "cell_type": "markdown",
   "metadata": {
    "id": "rF2ABPsHUtbZ"
   },
   "source": [
    "\n",
    "\n",
    "## 6. Exploratory Analysis"
   ]
  },
  {
   "cell_type": "code",
   "execution_count": 26,
   "metadata": {},
   "outputs": [],
   "source": [
    "# plt.figure(figsize=[17,5])\n",
    "# plt.subplot(1,3,1)\n",
    "# sns.barplot(car_df['seller_type'], car_df['selling_price'])\n",
    "# plt.title('selling Price Vs Seller Type')\n",
    "\n",
    "# plt.subplot(1,3,2)\n",
    "# sns.barplot(car_df['transmission'],car_df['selling_price'])\n",
    "# plt.title('Selling Price Vs Transmission')\n",
    "\n",
    "# plt.subplot(1,3,3)\n",
    "# sns.barplot(car_df['fuel'],car_df['selling_price'])\n",
    "# plt.title('Selling Price Vs Fuel Type')\n",
    "\n",
    "# plt.show()"
   ]
  },
  {
   "cell_type": "markdown",
   "metadata": {},
   "source": [
    "> 1.Selling Price of cars seems to have higher prices when sold by Dealers when compared to Individuals and Trustmark Dealer * \n",
    "> - 2.It can be observed that Selling Price would be higher for cars that are Automatic. *\n",
    "> - 3.Selling Price of cars with Fuel Type of Diesel is higher than Petrol, CNG and LPG. *"
   ]
  },
  {
   "cell_type": "code",
   "execution_count": 27,
   "metadata": {},
   "outputs": [
    {
     "data": {
      "image/png": "[encoded data removed]",
      "text/plain": [
       "<Figure size 432x288 with 1 Axes>"
      ]
     },
     "metadata": {
      "needs_background": "light"
     },
     "output_type": "display_data"
    }
   ],
   "source": [
    "#correlation between selling_price and seats\n",
    "sns.stripplot(data=car_df, x=car_df['seats'], y=car_df['selling_price']);"
   ]
  },
  {
   "cell_type": "code",
   "execution_count": 28,
   "metadata": {},
   "outputs": [
    {
     "data": {
      "image/png": "[encoded data removed]",
      "text/plain": [
       "<Figure size 432x288 with 1 Axes>"
      ]
     },
     "metadata": {
      "needs_background": "light"
     },
     "output_type": "display_data"
    }
   ],
   "source": [
    "#correlation between selling price and mileage \n",
    "ax1 = car_df.plot.scatter(x='mileage',\n",
    "                       y='selling_price',\n",
    "                       c='DarkBlue')"
   ]
  },
  {
   "cell_type": "code",
   "execution_count": 29,
   "metadata": {},
   "outputs": [
    {
     "data": {
      "image/png": "[encoded data removed]",
      "text/plain": [
       "<Figure size 432x288 with 1 Axes>"
      ]
     },
     "metadata": {
      "needs_background": "light"
     },
     "output_type": "display_data"
    }
   ],
   "source": [
    "#correlation between engine and selling price\n",
    "sns.scatterplot(data=car_df, x=car_df['engine'], y=car_df['selling_price']);"
   ]
  },
  {
   "cell_type": "code",
   "execution_count": 30,
   "metadata": {},
   "outputs": [
    {
     "data": {
      "image/png": "[encoded data removed]",
      "text/plain": [
       "<Figure size 432x288 with 1 Axes>"
      ]
     },
     "metadata": {
      "needs_background": "light"
     },
     "output_type": "display_data"
    }
   ],
   "source": [
    "#correlation between maximum power and selling price\n",
    "ax = car_df.plot.scatter(x='max_power', y='selling_price')"
   ]
  },
  {
   "cell_type": "code",
   "execution_count": 31,
   "metadata": {},
   "outputs": [
    {
     "data": {
      "image/png": "[encoded data removed]",
      "text/plain": [
       "<Figure size 504x360 with 1 Axes>"
      ]
     },
     "metadata": {
      "needs_background": "light"
     },
     "output_type": "display_data"
    }
   ],
   "source": [
    "#Correlation between km_driven and selling_price\n",
    "fig=plt.figure(figsize=(7,5))\n",
    "plt.title('Correlation between km_driven and selling_price')\n",
    "sns.regplot(x='km_driven', y='selling_price',data=car_df);"
   ]
  },
  {
   "cell_type": "code",
   "execution_count": 32,
   "metadata": {},
   "outputs": [
    {
     "data": {
      "image/png": "[encoded data removed]",
      "text/plain": [
       "<Figure size 432x288 with 1 Axes>"
      ]
     },
     "metadata": {
      "needs_background": "light"
     },
     "output_type": "display_data"
    }
   ],
   "source": [
    "#correlation between model year and selling price\n",
    "sns.scatterplot(data=car_df, x=car_df['year'], y=car_df['selling_price']);"
   ]
  },
  {
   "cell_type": "code",
   "execution_count": 33,
   "metadata": {
    "scrolled": false
   },
   "outputs": [
    {
     "name": "stdout",
     "output_type": "stream",
     "text": [
      "Skewness: 5.570763\n",
      "Kurtosis: 52.489968\n"
     ]
    },
    {
     "data": {
      "image/png": "[encoded data removed]",
      "text/plain": [
       "<Figure size 720x360 with 1 Axes>"
      ]
     },
     "metadata": {
      "needs_background": "light"
     },
     "output_type": "display_data"
    }
   ],
   "source": [
    "#checking for the distribution of the target variable\n",
    "plt.figure(figsize=(10,5))\n",
    "\n",
    "sns.distplot(car_df['selling_price'])\n",
    "plt.title('car selling_price distribution')\n",
    "\n",
    "print(\"Skewness: %f\" % car_df['selling_price'].skew())\n",
    "print(\"Kurtosis: %f\" % car_df['selling_price'].kurt())\n",
    "\n",
    "plt.show()"
   ]
  },
  {
   "cell_type": "markdown",
   "metadata": {},
   "source": [
    ">We can see that the price distribution has a high positive skewness to the left (skew > 1). A kurtosis value of 52 indicates that the dataset contains a large number of outliers."
   ]
  },
  {
   "cell_type": "code",
   "execution_count": 34,
   "metadata": {
    "id": "6UzyQC6kmdBi",
    "scrolled": true
   },
   "outputs": [
    {
     "data": {
      "text/html": [
       "<div>\n",
       "<style scoped>\n",
       "    .dataframe tbody tr th:only-of-type {\n",
       "        vertical-align: middle;\n",
       "    }\n",
       "\n",
       "    .dataframe tbody tr th {\n",
       "        vertical-align: top;\n",
       "    }\n",
       "\n",
       "    .dataframe thead th {\n",
       "        text-align: right;\n",
       "    }\n",
       "</style>\n",
       "<table border=\"1\" class=\"dataframe\">\n",
       "  <thead>\n",
       "    <tr style=\"text-align: right;\">\n",
       "      <th></th>\n",
       "      <th>company_name</th>\n",
       "      <th>year</th>\n",
       "      <th>selling_price</th>\n",
       "      <th>km_driven</th>\n",
       "      <th>fuel</th>\n",
       "      <th>seller_type</th>\n",
       "      <th>transmission</th>\n",
       "      <th>owner</th>\n",
       "      <th>mileage</th>\n",
       "      <th>engine</th>\n",
       "      <th>max_power</th>\n",
       "      <th>torque</th>\n",
       "      <th>seats</th>\n",
       "    </tr>\n",
       "  </thead>\n",
       "  <tbody>\n",
       "    <tr>\n",
       "      <th>0</th>\n",
       "      <td>Maruti</td>\n",
       "      <td>9</td>\n",
       "      <td>450000</td>\n",
       "      <td>145500</td>\n",
       "      <td>Diesel</td>\n",
       "      <td>Individual</td>\n",
       "      <td>Manual</td>\n",
       "      <td>First Owner</td>\n",
       "      <td>23.40</td>\n",
       "      <td>1248.0</td>\n",
       "      <td>74.00</td>\n",
       "      <td>190.0</td>\n",
       "      <td>5.0</td>\n",
       "    </tr>\n",
       "    <tr>\n",
       "      <th>1</th>\n",
       "      <td>Skoda</td>\n",
       "      <td>9</td>\n",
       "      <td>370000</td>\n",
       "      <td>120000</td>\n",
       "      <td>Diesel</td>\n",
       "      <td>Individual</td>\n",
       "      <td>Manual</td>\n",
       "      <td>Second Owner</td>\n",
       "      <td>21.14</td>\n",
       "      <td>1498.0</td>\n",
       "      <td>103.52</td>\n",
       "      <td>250.0</td>\n",
       "      <td>5.0</td>\n",
       "    </tr>\n",
       "    <tr>\n",
       "      <th>2</th>\n",
       "      <td>Honda</td>\n",
       "      <td>17</td>\n",
       "      <td>158000</td>\n",
       "      <td>140000</td>\n",
       "      <td>Petrol</td>\n",
       "      <td>Individual</td>\n",
       "      <td>Manual</td>\n",
       "      <td>Third Owner</td>\n",
       "      <td>17.70</td>\n",
       "      <td>1497.0</td>\n",
       "      <td>78.00</td>\n",
       "      <td>12.7</td>\n",
       "      <td>5.0</td>\n",
       "    </tr>\n",
       "    <tr>\n",
       "      <th>3</th>\n",
       "      <td>Hyundai</td>\n",
       "      <td>13</td>\n",
       "      <td>225000</td>\n",
       "      <td>127000</td>\n",
       "      <td>Diesel</td>\n",
       "      <td>Individual</td>\n",
       "      <td>Manual</td>\n",
       "      <td>First Owner</td>\n",
       "      <td>23.00</td>\n",
       "      <td>1396.0</td>\n",
       "      <td>90.00</td>\n",
       "      <td>22.4</td>\n",
       "      <td>5.0</td>\n",
       "    </tr>\n",
       "  </tbody>\n",
       "</table>\n",
       "</div>"
      ],
      "text/plain": [
       "  company_name  year  selling_price  km_driven    fuel seller_type  \\\n",
       "0       Maruti     9         450000     145500  Diesel  Individual   \n",
       "1        Skoda     9         370000     120000  Diesel  Individual   \n",
       "2        Honda    17         158000     140000  Petrol  Individual   \n",
       "3      Hyundai    13         225000     127000  Diesel  Individual   \n",
       "\n",
       "  transmission         owner  mileage  engine  max_power  torque  seats  \n",
       "0       Manual   First Owner    23.40  1248.0      74.00   190.0    5.0  \n",
       "1       Manual  Second Owner    21.14  1498.0     103.52   250.0    5.0  \n",
       "2       Manual   Third Owner    17.70  1497.0      78.00    12.7    5.0  \n",
       "3       Manual   First Owner    23.00  1396.0      90.00    22.4    5.0  "
      ]
     },
     "execution_count": 34,
     "metadata": {},
     "output_type": "execute_result"
    }
   ],
   "source": [
    "# catergorical column\n",
    "car_df.head(4)"
   ]
  },
  {
   "cell_type": "code",
   "execution_count": 35,
   "metadata": {},
   "outputs": [
    {
     "name": "stdout",
     "output_type": "stream",
     "text": [
      "<class 'pandas.core.frame.DataFrame'>\n",
      "Int64Index: 6717 entries, 0 to 8125\n",
      "Data columns (total 14 columns):\n",
      " #   Column         Non-Null Count  Dtype  \n",
      "---  ------         --------------  -----  \n",
      " 0   company_name   6717 non-null   int64  \n",
      " 1   year           6717 non-null   int64  \n",
      " 2   selling_price  6717 non-null   int64  \n",
      " 3   km_driven      6717 non-null   int64  \n",
      " 4   fuel           6717 non-null   int64  \n",
      " 5   seller_type    6717 non-null   int64  \n",
      " 6   transmission   6717 non-null   int64  \n",
      " 7   owner          6717 non-null   int64  \n",
      " 8   mileage        6717 non-null   float64\n",
      " 9   engine         6717 non-null   int64  \n",
      " 10  max_power      6717 non-null   float64\n",
      " 11  torque         6717 non-null   float64\n",
      " 12  seats          6717 non-null   int64  \n",
      " 13  seller         6717 non-null   int64  \n",
      "dtypes: float64(3), int64(11)\n",
      "memory usage: 1.0 MB\n"
     ]
    }
   ],
   "source": [
    "# creating initial dataframe\n",
    "#cols = [\"name\",\"fuel\",\"seller_type\",\"transmission\",\"seats\",\"engine\"]\n",
    "# creating instance of labelencoder\n",
    "labelencoder = LabelEncoder()\n",
    "# Assigning numerical values and storing in another colum\n",
    "car_df['owner'] = labelencoder.fit_transform(car_df['owner'])\n",
    "car_df['seller_type'] = labelencoder.fit_transform(car_df['seller_type'])\n",
    "car_df['company_name'] = labelencoder.fit_transform(car_df['company_name'])\n",
    "car_df['fuel'] = labelencoder.fit_transform(car_df['fuel'])\n",
    "car_df['seller'] = labelencoder.fit_transform(car_df['seller_type'])\n",
    "car_df['transmission'] = labelencoder.fit_transform(car_df['transmission'])\n",
    "car_df['seats'] = labelencoder.fit_transform(car_df['seats'])\n",
    "car_df['engine'] = labelencoder.fit_transform(car_df['engine'])\n",
    "car_df.info()\n"
   ]
  },
  {
   "cell_type": "markdown",
   "metadata": {
    "id": "vTbdjSrhVIiT"
   },
   "source": [
    "## 7. Implementing the Solution"
   ]
  },
  {
   "cell_type": "code",
   "execution_count": 36,
   "metadata": {},
   "outputs": [
    {
     "data": {
      "image/png": "[encoded data removed]",
      "text/plain": [
       "<Figure size 720x504 with 2 Axes>"
      ]
     },
     "metadata": {
      "needs_background": "light"
     },
     "output_type": "display_data"
    }
   ],
   "source": [
    "#correlation heatmap\n",
    "plt.figure(figsize=(10,7))\n",
    "mask = np.triu(np.ones_like(car_df.corr(), dtype=bool))\n",
    "sns.heatmap(car_df.corr(),annot=True,cmap=\"BrBG\",fmt=\".2f\", mask=mask);\n",
    "plt.title('correlation between the columns')\n",
    "plt.show()"
   ]
  },
  {
   "cell_type": "code",
   "execution_count": 37,
   "metadata": {},
   "outputs": [],
   "source": [
    "#creting model variables\n",
    "y = car_df['selling_price']\n",
    "#X_baseline = car_df.drop(labels=['selling_price','company_name','fuel','engine'],axis=1)\n",
    "X_baseline = car_df.drop(labels=['selling_price'],axis=1)"
   ]
  },
  {
   "cell_type": "code",
   "execution_count": 38,
   "metadata": {},
   "outputs": [
    {
     "data": {
      "text/html": [
       "<div>\n",
       "<style scoped>\n",
       "    .dataframe tbody tr th:only-of-type {\n",
       "        vertical-align: middle;\n",
       "    }\n",
       "\n",
       "    .dataframe tbody tr th {\n",
       "        vertical-align: top;\n",
       "    }\n",
       "\n",
       "    .dataframe thead th {\n",
       "        text-align: right;\n",
       "    }\n",
       "</style>\n",
       "<table border=\"1\" class=\"dataframe\">\n",
       "  <thead>\n",
       "    <tr style=\"text-align: right;\">\n",
       "      <th></th>\n",
       "      <th>company_name</th>\n",
       "      <th>year</th>\n",
       "      <th>selling_price</th>\n",
       "      <th>km_driven</th>\n",
       "      <th>fuel</th>\n",
       "      <th>seller_type</th>\n",
       "      <th>transmission</th>\n",
       "      <th>owner</th>\n",
       "      <th>mileage</th>\n",
       "      <th>engine</th>\n",
       "      <th>max_power</th>\n",
       "      <th>torque</th>\n",
       "      <th>seats</th>\n",
       "      <th>seller</th>\n",
       "    </tr>\n",
       "  </thead>\n",
       "  <tbody>\n",
       "    <tr>\n",
       "      <th>0</th>\n",
       "      <td>20</td>\n",
       "      <td>9</td>\n",
       "      <td>450000</td>\n",
       "      <td>145500</td>\n",
       "      <td>1</td>\n",
       "      <td>1</td>\n",
       "      <td>1</td>\n",
       "      <td>0</td>\n",
       "      <td>23.40</td>\n",
       "      <td>24</td>\n",
       "      <td>74.00</td>\n",
       "      <td>190.0</td>\n",
       "      <td>2</td>\n",
       "      <td>1</td>\n",
       "    </tr>\n",
       "    <tr>\n",
       "      <th>1</th>\n",
       "      <td>26</td>\n",
       "      <td>9</td>\n",
       "      <td>370000</td>\n",
       "      <td>120000</td>\n",
       "      <td>1</td>\n",
       "      <td>1</td>\n",
       "      <td>1</td>\n",
       "      <td>2</td>\n",
       "      <td>21.14</td>\n",
       "      <td>47</td>\n",
       "      <td>103.52</td>\n",
       "      <td>250.0</td>\n",
       "      <td>2</td>\n",
       "      <td>1</td>\n",
       "    </tr>\n",
       "    <tr>\n",
       "      <th>2</th>\n",
       "      <td>10</td>\n",
       "      <td>17</td>\n",
       "      <td>158000</td>\n",
       "      <td>140000</td>\n",
       "      <td>3</td>\n",
       "      <td>1</td>\n",
       "      <td>1</td>\n",
       "      <td>4</td>\n",
       "      <td>17.70</td>\n",
       "      <td>46</td>\n",
       "      <td>78.00</td>\n",
       "      <td>12.7</td>\n",
       "      <td>2</td>\n",
       "      <td>1</td>\n",
       "    </tr>\n",
       "  </tbody>\n",
       "</table>\n",
       "</div>"
      ],
      "text/plain": [
       "   company_name  year  selling_price  km_driven  fuel  seller_type  \\\n",
       "0            20     9         450000     145500     1            1   \n",
       "1            26     9         370000     120000     1            1   \n",
       "2            10    17         158000     140000     3            1   \n",
       "\n",
       "   transmission  owner  mileage  engine  max_power  torque  seats  seller  \n",
       "0             1      0    23.40      24      74.00   190.0      2       1  \n",
       "1             1      2    21.14      47     103.52   250.0      2       1  \n",
       "2             1      4    17.70      46      78.00    12.7      2       1  "
      ]
     },
     "execution_count": 38,
     "metadata": {},
     "output_type": "execute_result"
    }
   ],
   "source": [
    "car_df.head(3)"
   ]
  },
  {
   "cell_type": "code",
   "execution_count": 39,
   "metadata": {},
   "outputs": [
    {
     "data": {
      "text/html": [
       "<table class=\"simpletable\">\n",
       "<caption>OLS Regression Results</caption>\n",
       "<tr>\n",
       "  <th>Dep. Variable:</th>      <td>selling_price</td>  <th>  R-squared:         </th> <td>   0.624</td> \n",
       "</tr>\n",
       "<tr>\n",
       "  <th>Model:</th>                   <td>OLS</td>       <th>  Adj. R-squared:    </th> <td>   0.624</td> \n",
       "</tr>\n",
       "<tr>\n",
       "  <th>Method:</th>             <td>Least Squares</td>  <th>  F-statistic:       </th> <td>   928.9</td> \n",
       "</tr>\n",
       "<tr>\n",
       "  <th>Date:</th>             <td>Wed, 11 Jan 2023</td> <th>  Prob (F-statistic):</th>  <td>  0.00</td>  \n",
       "</tr>\n",
       "<tr>\n",
       "  <th>Time:</th>                 <td>17:16:33</td>     <th>  Log-Likelihood:    </th> <td> -94693.</td> \n",
       "</tr>\n",
       "<tr>\n",
       "  <th>No. Observations:</th>      <td>  6717</td>      <th>  AIC:               </th> <td>1.894e+05</td>\n",
       "</tr>\n",
       "<tr>\n",
       "  <th>Df Residuals:</th>          <td>  6704</td>      <th>  BIC:               </th> <td>1.895e+05</td>\n",
       "</tr>\n",
       "<tr>\n",
       "  <th>Df Model:</th>              <td>    12</td>      <th>                     </th>     <td> </td>    \n",
       "</tr>\n",
       "<tr>\n",
       "  <th>Covariance Type:</th>      <td>nonrobust</td>    <th>                     </th>     <td> </td>    \n",
       "</tr>\n",
       "</table>\n",
       "<table class=\"simpletable\">\n",
       "<tr>\n",
       "        <td></td>          <th>coef</th>     <th>std err</th>      <th>t</th>      <th>P>|t|</th>  <th>[0.025</th>    <th>0.975]</th>  \n",
       "</tr>\n",
       "<tr>\n",
       "  <th>const</th>        <td> 4.587e+05</td> <td> 6.62e+04</td> <td>    6.928</td> <td> 0.000</td> <td> 3.29e+05</td> <td> 5.88e+05</td>\n",
       "</tr>\n",
       "<tr>\n",
       "  <th>company_name</th> <td>  962.0311</td> <td>  586.302</td> <td>    1.641</td> <td> 0.101</td> <td> -187.307</td> <td> 2111.369</td>\n",
       "</tr>\n",
       "<tr>\n",
       "  <th>year</th>         <td>-3.271e+04</td> <td> 1397.039</td> <td>  -23.417</td> <td> 0.000</td> <td>-3.55e+04</td> <td>   -3e+04</td>\n",
       "</tr>\n",
       "<tr>\n",
       "  <th>km_driven</th>    <td>   -0.5837</td> <td>    0.078</td> <td>   -7.457</td> <td> 0.000</td> <td>   -0.737</td> <td>   -0.430</td>\n",
       "</tr>\n",
       "<tr>\n",
       "  <th>fuel</th>         <td>-8297.6882</td> <td> 6639.853</td> <td>   -1.250</td> <td> 0.211</td> <td>-2.13e+04</td> <td> 4718.534</td>\n",
       "</tr>\n",
       "<tr>\n",
       "  <th>seller_type</th>  <td>-5.878e+04</td> <td> 6633.802</td> <td>   -8.860</td> <td> 0.000</td> <td>-7.18e+04</td> <td>-4.58e+04</td>\n",
       "</tr>\n",
       "<tr>\n",
       "  <th>transmission</th> <td>-3.084e+05</td> <td> 1.62e+04</td> <td>  -19.012</td> <td> 0.000</td> <td> -3.4e+05</td> <td>-2.77e+05</td>\n",
       "</tr>\n",
       "<tr>\n",
       "  <th>owner</th>        <td> -1.29e+04</td> <td> 3553.793</td> <td>   -3.631</td> <td> 0.000</td> <td>-1.99e+04</td> <td>-5938.324</td>\n",
       "</tr>\n",
       "<tr>\n",
       "  <th>mileage</th>      <td> 1425.2555</td> <td> 1686.064</td> <td>    0.845</td> <td> 0.398</td> <td>-1879.965</td> <td> 4730.476</td>\n",
       "</tr>\n",
       "<tr>\n",
       "  <th>engine</th>       <td>  428.6384</td> <td>  314.365</td> <td>    1.364</td> <td> 0.173</td> <td> -187.616</td> <td> 1044.893</td>\n",
       "</tr>\n",
       "<tr>\n",
       "  <th>max_power</th>    <td> 7487.8300</td> <td>  250.580</td> <td>   29.882</td> <td> 0.000</td> <td> 6996.614</td> <td> 7979.046</td>\n",
       "</tr>\n",
       "<tr>\n",
       "  <th>torque</th>       <td>  778.0617</td> <td>   81.513</td> <td>    9.545</td> <td> 0.000</td> <td>  618.270</td> <td>  937.853</td>\n",
       "</tr>\n",
       "<tr>\n",
       "  <th>seats</th>        <td>-4033.7240</td> <td> 5951.601</td> <td>   -0.678</td> <td> 0.498</td> <td>-1.57e+04</td> <td> 7633.305</td>\n",
       "</tr>\n",
       "<tr>\n",
       "  <th>seller</th>       <td>-5.878e+04</td> <td> 6633.802</td> <td>   -8.860</td> <td> 0.000</td> <td>-7.18e+04</td> <td>-4.58e+04</td>\n",
       "</tr>\n",
       "</table>\n",
       "<table class=\"simpletable\">\n",
       "<tr>\n",
       "  <th>Omnibus:</th>       <td>7548.709</td> <th>  Durbin-Watson:     </th>  <td>   1.661</td>  \n",
       "</tr>\n",
       "<tr>\n",
       "  <th>Prob(Omnibus):</th>  <td> 0.000</td>  <th>  Jarque-Bera (JB):  </th> <td>1378265.253</td>\n",
       "</tr>\n",
       "<tr>\n",
       "  <th>Skew:</th>           <td> 5.528</td>  <th>  Prob(JB):          </th>  <td>    0.00</td>  \n",
       "</tr>\n",
       "<tr>\n",
       "  <th>Kurtosis:</th>       <td>72.299</td>  <th>  Cond. No.          </th>  <td>2.63e+21</td>  \n",
       "</tr>\n",
       "</table><br/><br/>Notes:<br/>[1] Standard Errors assume that the covariance matrix of the errors is correctly specified.<br/>[2] The smallest eigenvalue is 8.58e-30. This might indicate that there are<br/>strong multicollinearity problems or that the design matrix is singular."
      ],
      "text/plain": [
       "<class 'statsmodels.iolib.summary.Summary'>\n",
       "\"\"\"\n",
       "                            OLS Regression Results                            \n",
       "==============================================================================\n",
       "Dep. Variable:          selling_price   R-squared:                       0.624\n",
       "Model:                            OLS   Adj. R-squared:                  0.624\n",
       "Method:                 Least Squares   F-statistic:                     928.9\n",
       "Date:                Wed, 11 Jan 2023   Prob (F-statistic):               0.00\n",
       "Time:                        17:16:33   Log-Likelihood:                -94693.\n",
       "No. Observations:                6717   AIC:                         1.894e+05\n",
       "Df Residuals:                    6704   BIC:                         1.895e+05\n",
       "Df Model:                          12                                         \n",
       "Covariance Type:            nonrobust                                         \n",
       "================================================================================\n",
       "                   coef    std err          t      P>|t|      [0.025      0.975]\n",
       "--------------------------------------------------------------------------------\n",
       "const         4.587e+05   6.62e+04      6.928      0.000    3.29e+05    5.88e+05\n",
       "company_name   962.0311    586.302      1.641      0.101    -187.307    2111.369\n",
       "year         -3.271e+04   1397.039    -23.417      0.000   -3.55e+04      -3e+04\n",
       "km_driven       -0.5837      0.078     -7.457      0.000      -0.737      -0.430\n",
       "fuel         -8297.6882   6639.853     -1.250      0.211   -2.13e+04    4718.534\n",
       "seller_type  -5.878e+04   6633.802     -8.860      0.000   -7.18e+04   -4.58e+04\n",
       "transmission -3.084e+05   1.62e+04    -19.012      0.000    -3.4e+05   -2.77e+05\n",
       "owner         -1.29e+04   3553.793     -3.631      0.000   -1.99e+04   -5938.324\n",
       "mileage       1425.2555   1686.064      0.845      0.398   -1879.965    4730.476\n",
       "engine         428.6384    314.365      1.364      0.173    -187.616    1044.893\n",
       "max_power     7487.8300    250.580     29.882      0.000    6996.614    7979.046\n",
       "torque         778.0617     81.513      9.545      0.000     618.270     937.853\n",
       "seats        -4033.7240   5951.601     -0.678      0.498   -1.57e+04    7633.305\n",
       "seller       -5.878e+04   6633.802     -8.860      0.000   -7.18e+04   -4.58e+04\n",
       "==============================================================================\n",
       "Omnibus:                     7548.709   Durbin-Watson:                   1.661\n",
       "Prob(Omnibus):                  0.000   Jarque-Bera (JB):          1378265.253\n",
       "Skew:                           5.528   Prob(JB):                         0.00\n",
       "Kurtosis:                      72.299   Cond. No.                     2.63e+21\n",
       "==============================================================================\n",
       "\n",
       "Notes:\n",
       "[1] Standard Errors assume that the covariance matrix of the errors is correctly specified.\n",
       "[2] The smallest eigenvalue is 8.58e-30. This might indicate that there are\n",
       "strong multicollinearity problems or that the design matrix is singular.\n",
       "\"\"\""
      ]
     },
     "execution_count": 39,
     "metadata": {},
     "output_type": "execute_result"
    }
   ],
   "source": [
    "# using statmodel\n",
    "# use sm.add_constant(), to add constant term/y-intercept\n",
    "X_pred = sm.add_constant(X_baseline)# we add constant to differentiate predictor from other features.\n",
    "\n",
    "#building the model\n",
    "model =  sm.OLS(y,X_pred) .fit()\n",
    "\n",
    "#getting the model summary\n",
    "model.summary()"
   ]
  },
  {
   "cell_type": "code",
   "execution_count": 40,
   "metadata": {},
   "outputs": [],
   "source": [
    "#standardizing numerical colums\n",
    "#creting model variables\n",
    "y = car_df['selling_price']\n",
    "X = car_df.drop(labels=['selling_price','company_name','fuel','engine','seats','mileage'],axis=1)\n",
    "#X = car_df.drop(labels=['selling_price','transmission','seller','company_name','fuel','seller_type','owner','seats'],axis=1)"
   ]
  },
  {
   "cell_type": "code",
   "execution_count": 41,
   "metadata": {},
   "outputs": [],
   "source": [
    "cat_cols = ['transmission','seller','company_name','fuel','seller_type','owner','seats']\n",
    "cat_df = car_df[cat_cols]"
   ]
  },
  {
   "cell_type": "code",
   "execution_count": 42,
   "metadata": {},
   "outputs": [
    {
     "data": {
      "text/html": [
       "<div>\n",
       "<style scoped>\n",
       "    .dataframe tbody tr th:only-of-type {\n",
       "        vertical-align: middle;\n",
       "    }\n",
       "\n",
       "    .dataframe tbody tr th {\n",
       "        vertical-align: top;\n",
       "    }\n",
       "\n",
       "    .dataframe thead th {\n",
       "        text-align: right;\n",
       "    }\n",
       "</style>\n",
       "<table border=\"1\" class=\"dataframe\">\n",
       "  <thead>\n",
       "    <tr style=\"text-align: right;\">\n",
       "      <th></th>\n",
       "      <th>year</th>\n",
       "      <th>km_driven</th>\n",
       "      <th>seller_type</th>\n",
       "      <th>transmission</th>\n",
       "      <th>owner</th>\n",
       "      <th>max_power</th>\n",
       "      <th>torque</th>\n",
       "      <th>seller</th>\n",
       "    </tr>\n",
       "  </thead>\n",
       "  <tbody>\n",
       "    <tr>\n",
       "      <th>count</th>\n",
       "      <td>6.717000e+03</td>\n",
       "      <td>6.717000e+03</td>\n",
       "      <td>6.717000e+03</td>\n",
       "      <td>6.717000e+03</td>\n",
       "      <td>6.717000e+03</td>\n",
       "      <td>6.717000e+03</td>\n",
       "      <td>6.717000e+03</td>\n",
       "      <td>6.717000e+03</td>\n",
       "    </tr>\n",
       "    <tr>\n",
       "      <th>mean</th>\n",
       "      <td>-1.650211e-16</td>\n",
       "      <td>-5.289138e-17</td>\n",
       "      <td>8.303946e-17</td>\n",
       "      <td>-1.343441e-16</td>\n",
       "      <td>1.057828e-17</td>\n",
       "      <td>-2.496473e-16</td>\n",
       "      <td>2.031029e-16</td>\n",
       "      <td>8.303946e-17</td>\n",
       "    </tr>\n",
       "    <tr>\n",
       "      <th>std</th>\n",
       "      <td>1.000074e+00</td>\n",
       "      <td>1.000074e+00</td>\n",
       "      <td>1.000074e+00</td>\n",
       "      <td>1.000074e+00</td>\n",
       "      <td>1.000074e+00</td>\n",
       "      <td>1.000074e+00</td>\n",
       "      <td>1.000074e+00</td>\n",
       "      <td>1.000074e+00</td>\n",
       "    </tr>\n",
       "    <tr>\n",
       "      <th>min</th>\n",
       "      <td>-1.639384e+00</td>\n",
       "      <td>-1.250404e+00</td>\n",
       "      <td>-2.949457e+00</td>\n",
       "      <td>-3.268293e+00</td>\n",
       "      <td>-7.071789e-01</td>\n",
       "      <td>-1.732733e+00</td>\n",
       "      <td>-1.703219e+00</td>\n",
       "      <td>-2.949457e+00</td>\n",
       "    </tr>\n",
       "    <tr>\n",
       "      <th>25%</th>\n",
       "      <td>-8.695836e-01</td>\n",
       "      <td>-6.030494e-01</td>\n",
       "      <td>3.100860e-01</td>\n",
       "      <td>3.059701e-01</td>\n",
       "      <td>-7.071789e-01</td>\n",
       "      <td>-6.514713e-01</td>\n",
       "      <td>-7.078411e-01</td>\n",
       "      <td>3.100860e-01</td>\n",
       "    </tr>\n",
       "    <tr>\n",
       "      <th>50%</th>\n",
       "      <td>-9.978264e-02</td>\n",
       "      <td>-8.850825e-02</td>\n",
       "      <td>3.100860e-01</td>\n",
       "      <td>3.059701e-01</td>\n",
       "      <td>-7.071789e-01</td>\n",
       "      <td>-1.871277e-01</td>\n",
       "      <td>-1.621294e-01</td>\n",
       "      <td>3.100860e-01</td>\n",
       "    </tr>\n",
       "    <tr>\n",
       "      <th>75%</th>\n",
       "      <td>6.700183e-01</td>\n",
       "      <td>4.531884e-01</td>\n",
       "      <td>3.100860e-01</td>\n",
       "      <td>3.059701e-01</td>\n",
       "      <td>8.981340e-01</td>\n",
       "      <td>3.856574e-01</td>\n",
       "      <td>4.272393e-01</td>\n",
       "      <td>3.100860e-01</td>\n",
       "    </tr>\n",
       "    <tr>\n",
       "      <th>max</th>\n",
       "      <td>5.032224e+00</td>\n",
       "      <td>3.896254e+01</td>\n",
       "      <td>3.569629e+00</td>\n",
       "      <td>3.059701e-01</td>\n",
       "      <td>2.503447e+00</td>\n",
       "      <td>9.842759e+00</td>\n",
       "      <td>6.855724e+00</td>\n",
       "      <td>3.569629e+00</td>\n",
       "    </tr>\n",
       "  </tbody>\n",
       "</table>\n",
       "</div>"
      ],
      "text/plain": [
       "               year     km_driven   seller_type  transmission         owner  \\\n",
       "count  6.717000e+03  6.717000e+03  6.717000e+03  6.717000e+03  6.717000e+03   \n",
       "mean  -1.650211e-16 -5.289138e-17  8.303946e-17 -1.343441e-16  1.057828e-17   \n",
       "std    1.000074e+00  1.000074e+00  1.000074e+00  1.000074e+00  1.000074e+00   \n",
       "min   -1.639384e+00 -1.250404e+00 -2.949457e+00 -3.268293e+00 -7.071789e-01   \n",
       "25%   -8.695836e-01 -6.030494e-01  3.100860e-01  3.059701e-01 -7.071789e-01   \n",
       "50%   -9.978264e-02 -8.850825e-02  3.100860e-01  3.059701e-01 -7.071789e-01   \n",
       "75%    6.700183e-01  4.531884e-01  3.100860e-01  3.059701e-01  8.981340e-01   \n",
       "max    5.032224e+00  3.896254e+01  3.569629e+00  3.059701e-01  2.503447e+00   \n",
       "\n",
       "          max_power        torque        seller  \n",
       "count  6.717000e+03  6.717000e+03  6.717000e+03  \n",
       "mean  -2.496473e-16  2.031029e-16  8.303946e-17  \n",
       "std    1.000074e+00  1.000074e+00  1.000074e+00  \n",
       "min   -1.732733e+00 -1.703219e+00 -2.949457e+00  \n",
       "25%   -6.514713e-01 -7.078411e-01  3.100860e-01  \n",
       "50%   -1.871277e-01 -1.621294e-01  3.100860e-01  \n",
       "75%    3.856574e-01  4.272393e-01  3.100860e-01  \n",
       "max    9.842759e+00  6.855724e+00  3.569629e+00  "
      ]
     },
     "execution_count": 42,
     "metadata": {},
     "output_type": "execute_result"
    }
   ],
   "source": [
    "# standand scaling(subtract the men of the variable/the std deviation of the variable)\n",
    "\n",
    "#including all the columns\n",
    "X_predict_scaled = (X-np.mean(X))/np.std(X)\n",
    "X_predict_scaled.head()\n",
    "\n",
    "#checking the statisticall summary\n",
    "X_predict_scaled.describe()"
   ]
  },
  {
   "cell_type": "code",
   "execution_count": 43,
   "metadata": {
    "scrolled": false
   },
   "outputs": [
    {
     "data": {
      "text/html": [
       "<div>\n",
       "<style scoped>\n",
       "    .dataframe tbody tr th:only-of-type {\n",
       "        vertical-align: middle;\n",
       "    }\n",
       "\n",
       "    .dataframe tbody tr th {\n",
       "        vertical-align: top;\n",
       "    }\n",
       "\n",
       "    .dataframe thead th {\n",
       "        text-align: right;\n",
       "    }\n",
       "</style>\n",
       "<table border=\"1\" class=\"dataframe\">\n",
       "  <thead>\n",
       "    <tr style=\"text-align: right;\">\n",
       "      <th></th>\n",
       "      <th>year</th>\n",
       "      <th>km_driven</th>\n",
       "      <th>seller_type</th>\n",
       "      <th>transmission</th>\n",
       "      <th>owner</th>\n",
       "      <th>max_power</th>\n",
       "      <th>torque</th>\n",
       "      <th>seller</th>\n",
       "      <th>transmission</th>\n",
       "      <th>seller</th>\n",
       "      <th>company_name</th>\n",
       "      <th>fuel</th>\n",
       "      <th>seller_type</th>\n",
       "      <th>owner</th>\n",
       "      <th>seats</th>\n",
       "    </tr>\n",
       "  </thead>\n",
       "  <tbody>\n",
       "    <tr>\n",
       "      <th>0</th>\n",
       "      <td>-0.099783</td>\n",
       "      <td>1.228331</td>\n",
       "      <td>0.310086</td>\n",
       "      <td>0.30597</td>\n",
       "      <td>-0.707179</td>\n",
       "      <td>-0.433958</td>\n",
       "      <td>0.318097</td>\n",
       "      <td>0.310086</td>\n",
       "      <td>1</td>\n",
       "      <td>1</td>\n",
       "      <td>20</td>\n",
       "      <td>1</td>\n",
       "      <td>1</td>\n",
       "      <td>0</td>\n",
       "      <td>2</td>\n",
       "    </tr>\n",
       "    <tr>\n",
       "      <th>1</th>\n",
       "      <td>-0.099783</td>\n",
       "      <td>0.793910</td>\n",
       "      <td>0.310086</td>\n",
       "      <td>0.30597</td>\n",
       "      <td>0.898134</td>\n",
       "      <td>0.496621</td>\n",
       "      <td>0.972951</td>\n",
       "      <td>0.310086</td>\n",
       "      <td>1</td>\n",
       "      <td>1</td>\n",
       "      <td>26</td>\n",
       "      <td>1</td>\n",
       "      <td>1</td>\n",
       "      <td>2</td>\n",
       "      <td>2</td>\n",
       "    </tr>\n",
       "    <tr>\n",
       "      <th>2</th>\n",
       "      <td>1.953020</td>\n",
       "      <td>1.134632</td>\n",
       "      <td>0.310086</td>\n",
       "      <td>0.30597</td>\n",
       "      <td>2.503447</td>\n",
       "      <td>-0.307863</td>\n",
       "      <td>-1.616997</td>\n",
       "      <td>0.310086</td>\n",
       "      <td>1</td>\n",
       "      <td>1</td>\n",
       "      <td>10</td>\n",
       "      <td>3</td>\n",
       "      <td>1</td>\n",
       "      <td>4</td>\n",
       "      <td>2</td>\n",
       "    </tr>\n",
       "    <tr>\n",
       "      <th>3</th>\n",
       "      <td>0.926619</td>\n",
       "      <td>0.913163</td>\n",
       "      <td>0.310086</td>\n",
       "      <td>0.30597</td>\n",
       "      <td>-0.707179</td>\n",
       "      <td>0.070421</td>\n",
       "      <td>-1.511129</td>\n",
       "      <td>0.310086</td>\n",
       "      <td>1</td>\n",
       "      <td>1</td>\n",
       "      <td>11</td>\n",
       "      <td>1</td>\n",
       "      <td>1</td>\n",
       "      <td>0</td>\n",
       "      <td>2</td>\n",
       "    </tr>\n",
       "    <tr>\n",
       "      <th>4</th>\n",
       "      <td>1.696420</td>\n",
       "      <td>0.793910</td>\n",
       "      <td>0.310086</td>\n",
       "      <td>0.30597</td>\n",
       "      <td>-0.707179</td>\n",
       "      <td>0.013678</td>\n",
       "      <td>-1.630094</td>\n",
       "      <td>0.310086</td>\n",
       "      <td>1</td>\n",
       "      <td>1</td>\n",
       "      <td>20</td>\n",
       "      <td>3</td>\n",
       "      <td>1</td>\n",
       "      <td>0</td>\n",
       "      <td>2</td>\n",
       "    </tr>\n",
       "    <tr>\n",
       "      <th>...</th>\n",
       "      <td>...</td>\n",
       "      <td>...</td>\n",
       "      <td>...</td>\n",
       "      <td>...</td>\n",
       "      <td>...</td>\n",
       "      <td>...</td>\n",
       "      <td>...</td>\n",
       "      <td>...</td>\n",
       "      <td>...</td>\n",
       "      <td>...</td>\n",
       "      <td>...</td>\n",
       "      <td>...</td>\n",
       "      <td>...</td>\n",
       "      <td>...</td>\n",
       "      <td>...</td>\n",
       "    </tr>\n",
       "    <tr>\n",
       "      <th>8121</th>\n",
       "      <td>0.156818</td>\n",
       "      <td>-0.398616</td>\n",
       "      <td>0.310086</td>\n",
       "      <td>0.30597</td>\n",
       "      <td>0.898134</td>\n",
       "      <td>-0.651471</td>\n",
       "      <td>-0.773327</td>\n",
       "      <td>0.310086</td>\n",
       "      <td>1</td>\n",
       "      <td>1</td>\n",
       "      <td>20</td>\n",
       "      <td>3</td>\n",
       "      <td>1</td>\n",
       "      <td>2</td>\n",
       "      <td>2</td>\n",
       "    </tr>\n",
       "    <tr>\n",
       "      <th>8122</th>\n",
       "      <td>-0.099783</td>\n",
       "      <td>0.112467</td>\n",
       "      <td>0.310086</td>\n",
       "      <td>0.30597</td>\n",
       "      <td>0.898134</td>\n",
       "      <td>0.030386</td>\n",
       "      <td>0.642250</td>\n",
       "      <td>0.310086</td>\n",
       "      <td>1</td>\n",
       "      <td>1</td>\n",
       "      <td>11</td>\n",
       "      <td>1</td>\n",
       "      <td>1</td>\n",
       "      <td>2</td>\n",
       "      <td>2</td>\n",
       "    </tr>\n",
       "    <tr>\n",
       "      <th>8123</th>\n",
       "      <td>0.156818</td>\n",
       "      <td>0.623549</td>\n",
       "      <td>0.310086</td>\n",
       "      <td>0.30597</td>\n",
       "      <td>-0.707179</td>\n",
       "      <td>-0.154974</td>\n",
       "      <td>-0.514659</td>\n",
       "      <td>0.310086</td>\n",
       "      <td>1</td>\n",
       "      <td>1</td>\n",
       "      <td>11</td>\n",
       "      <td>3</td>\n",
       "      <td>1</td>\n",
       "      <td>0</td>\n",
       "      <td>2</td>\n",
       "    </tr>\n",
       "    <tr>\n",
       "      <th>8124</th>\n",
       "      <td>1.696420</td>\n",
       "      <td>0.776874</td>\n",
       "      <td>0.310086</td>\n",
       "      <td>0.30597</td>\n",
       "      <td>0.095478</td>\n",
       "      <td>0.700894</td>\n",
       "      <td>-1.493666</td>\n",
       "      <td>0.310086</td>\n",
       "      <td>1</td>\n",
       "      <td>1</td>\n",
       "      <td>11</td>\n",
       "      <td>1</td>\n",
       "      <td>1</td>\n",
       "      <td>1</td>\n",
       "      <td>2</td>\n",
       "    </tr>\n",
       "    <tr>\n",
       "      <th>8125</th>\n",
       "      <td>1.183219</td>\n",
       "      <td>0.793910</td>\n",
       "      <td>0.310086</td>\n",
       "      <td>0.30597</td>\n",
       "      <td>-0.707179</td>\n",
       "      <td>-0.437110</td>\n",
       "      <td>0.318097</td>\n",
       "      <td>0.310086</td>\n",
       "      <td>1</td>\n",
       "      <td>1</td>\n",
       "      <td>20</td>\n",
       "      <td>1</td>\n",
       "      <td>1</td>\n",
       "      <td>0</td>\n",
       "      <td>2</td>\n",
       "    </tr>\n",
       "  </tbody>\n",
       "</table>\n",
       "<p>6717 rows × 15 columns</p>\n",
       "</div>"
      ],
      "text/plain": [
       "          year  km_driven  seller_type  transmission     owner  max_power  \\\n",
       "0    -0.099783   1.228331     0.310086       0.30597 -0.707179  -0.433958   \n",
       "1    -0.099783   0.793910     0.310086       0.30597  0.898134   0.496621   \n",
       "2     1.953020   1.134632     0.310086       0.30597  2.503447  -0.307863   \n",
       "3     0.926619   0.913163     0.310086       0.30597 -0.707179   0.070421   \n",
       "4     1.696420   0.793910     0.310086       0.30597 -0.707179   0.013678   \n",
       "...        ...        ...          ...           ...       ...        ...   \n",
       "8121  0.156818  -0.398616     0.310086       0.30597  0.898134  -0.651471   \n",
       "8122 -0.099783   0.112467     0.310086       0.30597  0.898134   0.030386   \n",
       "8123  0.156818   0.623549     0.310086       0.30597 -0.707179  -0.154974   \n",
       "8124  1.696420   0.776874     0.310086       0.30597  0.095478   0.700894   \n",
       "8125  1.183219   0.793910     0.310086       0.30597 -0.707179  -0.437110   \n",
       "\n",
       "        torque    seller  transmission  seller  company_name  fuel  \\\n",
       "0     0.318097  0.310086             1       1            20     1   \n",
       "1     0.972951  0.310086             1       1            26     1   \n",
       "2    -1.616997  0.310086             1       1            10     3   \n",
       "3    -1.511129  0.310086             1       1            11     1   \n",
       "4    -1.630094  0.310086             1       1            20     3   \n",
       "...        ...       ...           ...     ...           ...   ...   \n",
       "8121 -0.773327  0.310086             1       1            20     3   \n",
       "8122  0.642250  0.310086             1       1            11     1   \n",
       "8123 -0.514659  0.310086             1       1            11     3   \n",
       "8124 -1.493666  0.310086             1       1            11     1   \n",
       "8125  0.318097  0.310086             1       1            20     1   \n",
       "\n",
       "      seller_type  owner  seats  \n",
       "0               1      0      2  \n",
       "1               1      2      2  \n",
       "2               1      4      2  \n",
       "3               1      0      2  \n",
       "4               1      0      2  \n",
       "...           ...    ...    ...  \n",
       "8121            1      2      2  \n",
       "8122            1      2      2  \n",
       "8123            1      0      2  \n",
       "8124            1      1      2  \n",
       "8125            1      0      2  \n",
       "\n",
       "[6717 rows x 15 columns]"
      ]
     },
     "execution_count": 43,
     "metadata": {},
     "output_type": "execute_result"
    }
   ],
   "source": [
    "df = pd.concat([X_predict_scaled, cat_df], axis=1)\n",
    "df"
   ]
  },
  {
   "cell_type": "code",
   "execution_count": 44,
   "metadata": {},
   "outputs": [
    {
     "data": {
      "text/html": [
       "<table class=\"simpletable\">\n",
       "<caption>OLS Regression Results</caption>\n",
       "<tr>\n",
       "  <th>Dep. Variable:</th>      <td>selling_price</td>  <th>  R-squared:         </th> <td>   0.624</td> \n",
       "</tr>\n",
       "<tr>\n",
       "  <th>Model:</th>                   <td>OLS</td>       <th>  Adj. R-squared:    </th> <td>   0.623</td> \n",
       "</tr>\n",
       "<tr>\n",
       "  <th>Method:</th>             <td>Least Squares</td>  <th>  F-statistic:       </th> <td>   1589.</td> \n",
       "</tr>\n",
       "<tr>\n",
       "  <th>Date:</th>             <td>Wed, 11 Jan 2023</td> <th>  Prob (F-statistic):</th>  <td>  0.00</td>  \n",
       "</tr>\n",
       "<tr>\n",
       "  <th>Time:</th>                 <td>17:16:33</td>     <th>  Log-Likelihood:    </th> <td> -94699.</td> \n",
       "</tr>\n",
       "<tr>\n",
       "  <th>No. Observations:</th>      <td>  6717</td>      <th>  AIC:               </th> <td>1.894e+05</td>\n",
       "</tr>\n",
       "<tr>\n",
       "  <th>Df Residuals:</th>          <td>  6709</td>      <th>  BIC:               </th> <td>1.895e+05</td>\n",
       "</tr>\n",
       "<tr>\n",
       "  <th>Df Model:</th>              <td>     7</td>      <th>                     </th>     <td> </td>    \n",
       "</tr>\n",
       "<tr>\n",
       "  <th>Covariance Type:</th>      <td>nonrobust</td>    <th>                     </th>     <td> </td>    \n",
       "</tr>\n",
       "</table>\n",
       "<table class=\"simpletable\">\n",
       "<tr>\n",
       "        <td></td>          <th>coef</th>     <th>std err</th>      <th>t</th>      <th>P>|t|</th>  <th>[0.025</th>    <th>0.975]</th>  \n",
       "</tr>\n",
       "<tr>\n",
       "  <th>const</th>        <td> 5.264e+05</td> <td> 3920.079</td> <td>  134.279</td> <td> 0.000</td> <td> 5.19e+05</td> <td> 5.34e+05</td>\n",
       "</tr>\n",
       "<tr>\n",
       "  <th>year</th>         <td>-1.284e+05</td> <td> 4829.804</td> <td>  -26.587</td> <td> 0.000</td> <td>-1.38e+05</td> <td>-1.19e+05</td>\n",
       "</tr>\n",
       "<tr>\n",
       "  <th>km_driven</th>    <td>-3.059e+04</td> <td> 4376.279</td> <td>   -6.990</td> <td> 0.000</td> <td>-3.92e+04</td> <td> -2.2e+04</td>\n",
       "</tr>\n",
       "<tr>\n",
       "  <th>seller_type</th>  <td>-1.806e+04</td> <td> 2031.383</td> <td>   -8.892</td> <td> 0.000</td> <td> -2.2e+04</td> <td>-1.41e+04</td>\n",
       "</tr>\n",
       "<tr>\n",
       "  <th>transmission</th> <td>-8.468e+04</td> <td> 4453.522</td> <td>  -19.015</td> <td> 0.000</td> <td>-9.34e+04</td> <td> -7.6e+04</td>\n",
       "</tr>\n",
       "<tr>\n",
       "  <th>owner</th>        <td>-1.586e+04</td> <td> 4424.668</td> <td>   -3.584</td> <td> 0.000</td> <td>-2.45e+04</td> <td>-7185.053</td>\n",
       "</tr>\n",
       "<tr>\n",
       "  <th>max_power</th>    <td>  2.37e+05</td> <td> 6297.526</td> <td>   37.636</td> <td> 0.000</td> <td> 2.25e+05</td> <td> 2.49e+05</td>\n",
       "</tr>\n",
       "<tr>\n",
       "  <th>torque</th>       <td> 8.238e+04</td> <td> 6067.928</td> <td>   13.577</td> <td> 0.000</td> <td> 7.05e+04</td> <td> 9.43e+04</td>\n",
       "</tr>\n",
       "<tr>\n",
       "  <th>seller</th>       <td>-1.806e+04</td> <td> 2031.383</td> <td>   -8.892</td> <td> 0.000</td> <td> -2.2e+04</td> <td>-1.41e+04</td>\n",
       "</tr>\n",
       "</table>\n",
       "<table class=\"simpletable\">\n",
       "<tr>\n",
       "  <th>Omnibus:</th>       <td>7501.644</td> <th>  Durbin-Watson:     </th>  <td>   1.662</td>  \n",
       "</tr>\n",
       "<tr>\n",
       "  <th>Prob(Omnibus):</th>  <td> 0.000</td>  <th>  Jarque-Bera (JB):  </th> <td>1345330.297</td>\n",
       "</tr>\n",
       "<tr>\n",
       "  <th>Skew:</th>           <td> 5.471</td>  <th>  Prob(JB):          </th>  <td>    0.00</td>  \n",
       "</tr>\n",
       "<tr>\n",
       "  <th>Kurtosis:</th>       <td>71.463</td>  <th>  Cond. No.          </th>  <td>4.36e+15</td>  \n",
       "</tr>\n",
       "</table><br/><br/>Notes:<br/>[1] Standard Errors assume that the covariance matrix of the errors is correctly specified.<br/>[2] The smallest eigenvalue is 9.33e-28. This might indicate that there are<br/>strong multicollinearity problems or that the design matrix is singular."
      ],
      "text/plain": [
       "<class 'statsmodels.iolib.summary.Summary'>\n",
       "\"\"\"\n",
       "                            OLS Regression Results                            \n",
       "==============================================================================\n",
       "Dep. Variable:          selling_price   R-squared:                       0.624\n",
       "Model:                            OLS   Adj. R-squared:                  0.623\n",
       "Method:                 Least Squares   F-statistic:                     1589.\n",
       "Date:                Wed, 11 Jan 2023   Prob (F-statistic):               0.00\n",
       "Time:                        17:16:33   Log-Likelihood:                -94699.\n",
       "No. Observations:                6717   AIC:                         1.894e+05\n",
       "Df Residuals:                    6709   BIC:                         1.895e+05\n",
       "Df Model:                           7                                         \n",
       "Covariance Type:            nonrobust                                         \n",
       "================================================================================\n",
       "                   coef    std err          t      P>|t|      [0.025      0.975]\n",
       "--------------------------------------------------------------------------------\n",
       "const         5.264e+05   3920.079    134.279      0.000    5.19e+05    5.34e+05\n",
       "year         -1.284e+05   4829.804    -26.587      0.000   -1.38e+05   -1.19e+05\n",
       "km_driven    -3.059e+04   4376.279     -6.990      0.000   -3.92e+04    -2.2e+04\n",
       "seller_type  -1.806e+04   2031.383     -8.892      0.000    -2.2e+04   -1.41e+04\n",
       "transmission -8.468e+04   4453.522    -19.015      0.000   -9.34e+04    -7.6e+04\n",
       "owner        -1.586e+04   4424.668     -3.584      0.000   -2.45e+04   -7185.053\n",
       "max_power      2.37e+05   6297.526     37.636      0.000    2.25e+05    2.49e+05\n",
       "torque        8.238e+04   6067.928     13.577      0.000    7.05e+04    9.43e+04\n",
       "seller       -1.806e+04   2031.383     -8.892      0.000    -2.2e+04   -1.41e+04\n",
       "==============================================================================\n",
       "Omnibus:                     7501.644   Durbin-Watson:                   1.662\n",
       "Prob(Omnibus):                  0.000   Jarque-Bera (JB):          1345330.297\n",
       "Skew:                           5.471   Prob(JB):                         0.00\n",
       "Kurtosis:                      71.463   Cond. No.                     4.36e+15\n",
       "==============================================================================\n",
       "\n",
       "Notes:\n",
       "[1] Standard Errors assume that the covariance matrix of the errors is correctly specified.\n",
       "[2] The smallest eigenvalue is 9.33e-28. This might indicate that there are\n",
       "strong multicollinearity problems or that the design matrix is singular.\n",
       "\"\"\""
      ]
     },
     "execution_count": 44,
     "metadata": {},
     "output_type": "execute_result"
    }
   ],
   "source": [
    "#fit after standard scaling\n",
    "#modeling\n",
    "X_pred = sm.add_constant(X_predict_scaled)\n",
    "#building the model\n",
    "model2 =  sm.OLS(y,X_pred).fit()\n",
    "model2.summary()"
   ]
  },
  {
   "cell_type": "code",
   "execution_count": 45,
   "metadata": {},
   "outputs": [
    {
     "data": {
      "image/png": "[encoded data removed]",
      "text/plain": [
       "<Figure size 720x360 with 1 Axes>"
      ]
     },
     "metadata": {
      "needs_background": "light"
     },
     "output_type": "display_data"
    }
   ],
   "source": [
    "plt.figure(figsize=(10,5))\n",
    "sns.distplot(np.log(car_df['year']))\n",
    "plt.title('Distribution of year')\n",
    "plt.show()"
   ]
  },
  {
   "cell_type": "code",
   "execution_count": 46,
   "metadata": {},
   "outputs": [
    {
     "data": {
      "image/png": "[encoded data removed]",
      "text/plain": [
       "<Figure size 720x360 with 1 Axes>"
      ]
     },
     "metadata": {
      "needs_background": "light"
     },
     "output_type": "display_data"
    }
   ],
   "source": [
    "plt.figure(figsize=(10,5))\n",
    "sns.distplot(np.log(car_df['selling_price']))\n",
    "plt.title('Distribution of Selling Price')\n",
    "plt.show()"
   ]
  },
  {
   "cell_type": "markdown",
   "metadata": {},
   "source": [
    "> Looking at the summary above,the regression line found was \n",
    "\n",
    "$$ \\hat{sellingprice} = -4.856e+05 - 1.58e+04 maxpower $$\n",
    "- "
   ]
  },
  {
   "cell_type": "code",
   "execution_count": 47,
   "metadata": {
    "id": "PJLZaRzJXJ3w"
   },
   "outputs": [],
   "source": [
    "# Implementing the Solution\n",
    "# "
   ]
  },
  {
   "cell_type": "markdown",
   "metadata": {
    "id": "lQ2G4ZPDVOXE"
   },
   "source": [
    "## 8. Challenging the solution"
   ]
  },
  {
   "cell_type": "markdown",
   "metadata": {
    "id": "jWVGKGuiYMWg"
   },
   "source": [
    "> The easy solution is nice because it is, well, easy, but you should never allow those results to hold the day. You should always be thinking of ways to challenge the results, especially if those results comport with your prior expectation.\n",
    "\n",
    "\n",
    "\n",
    "\n"
   ]
  },
  {
   "cell_type": "code",
   "execution_count": 48,
   "metadata": {
    "id": "j3x3SXZ4XT_L"
   },
   "outputs": [],
   "source": [
    "# Reviewing the Solution \n",
    "#"
   ]
  },
  {
   "cell_type": "markdown",
   "metadata": {
    "id": "xrmHVMVsVS--"
   },
   "source": [
    "## 9. Follow up questions"
   ]
  },
  {
   "cell_type": "markdown",
   "metadata": {
    "id": "pth2qSWhuBIy"
   },
   "source": [
    "> At this point, we can refine our question or collect new data, all in an iterative process to get at the truth.\n",
    "\n"
   ]
  },
  {
   "cell_type": "markdown",
   "metadata": {
    "id": "HPQviDmNtta8"
   },
   "source": [
    "### a). Did we have the right data?"
   ]
  },
  {
   "cell_type": "markdown",
   "metadata": {
    "id": "qjFHK1CKty7o"
   },
   "source": [
    "### b). Do we need other data to answer our question?"
   ]
  },
  {
   "cell_type": "markdown",
   "metadata": {
    "id": "HSsicSdvt4Zs"
   },
   "source": [
    "### c). Did we have the right question?"
   ]
  }
 ],
 "metadata": {
  "colab": {
   "collapsed_sections": [
    "kLG2VTrnTvYL",
    "J4wfHZwQrs-t",
    "a9BPYqunry97",
    "7KMRBJ7zr9HD",
    "zSGyg6kWsBUl",
    "iUNbvIvnT7ep",
    "OI3P3YnHUEBk",
    "ckfufNrcUHeH",
    "6XC_g-zKxe-r",
    "FlBMxEDBUc9B",
    "rF2ABPsHUtbZ",
    "vTbdjSrhVIiT",
    "lQ2G4ZPDVOXE",
    "xrmHVMVsVS--",
    "HPQviDmNtta8",
    "qjFHK1CKty7o",
    "HSsicSdvt4Zs"
   ],
   "provenance": [],
   "toc_visible": true
  },
  "kernelspec": {
   "display_name": "Python 3",
   "language": "python",
   "name": "python3"
  },
  "language_info": {
   "codemirror_mode": {
    "name": "ipython",
    "version": 3
   },
   "file_extension": ".py",
   "mimetype": "text/x-python",
   "name": "python",
   "nbconvert_exporter": "python",
   "pygments_lexer": "ipython3",
   "version": "3.7.3"
  }
 },
 "nbformat": 4,
 "nbformat_minor": 1
}
